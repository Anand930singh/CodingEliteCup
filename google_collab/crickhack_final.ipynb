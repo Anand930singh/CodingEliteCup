{
  "nbformat": 4,
  "nbformat_minor": 0,
  "metadata": {
    "colab": {
      "provenance": [],
      "gpuType": "T4"
    },
    "kernelspec": {
      "name": "python3",
      "display_name": "Python 3"
    },
    "language_info": {
      "name": "python"
    },
    "accelerator": "GPU"
  },
  "cells": [
    {
      "cell_type": "code",
      "execution_count": null,
      "metadata": {
        "id": "1Q5Kxu8dLdAF"
      },
      "outputs": [],
      "source": [
        "import pandas as pd"
      ]
    },
    {
      "cell_type": "markdown",
      "source": [
        "uploading the csv from drive"
      ],
      "metadata": {
        "id": "HoYTM9DYzCOY"
      }
    },
    {
      "cell_type": "code",
      "source": [
        "path='/content/players_data_batters_full.csv'\n",
        "data=pd.read_csv(path)\n",
        "\n",
        "print(data.head())"
      ],
      "metadata": {
        "id": "22pKz3OeMT97",
        "colab": {
          "base_uri": "https://localhost:8080/"
        },
        "outputId": "2d11be4e-3192-43b3-ad6a-faf1a1b9738e"
      },
      "execution_count": null,
      "outputs": [
        {
          "output_type": "stream",
          "name": "stdout",
          "text": [
            "       Player Bat1 Bat2 Runs   BF     SR  4s 6s  Unnamed: 8         Ground  \\\n",
            "0  AK Markram   97   15  112  178  62.92  15  0         NaN  Potchefstroom   \n",
            "1  AK Markram  143    -  143  186  76.88  22  0         NaN   Bloemfontein   \n",
            "2  AK Markram   66    -   66   60    110   4  2         NaN    East London   \n",
            "3  AK Markram  125    -  125  204  61.27  14  2         NaN       Gqeberha   \n",
            "4  AK Markram    5   34   39   54  72.22   8  0         NaN      Cape Town   \n",
            "\n",
            "  Start Date  temp  humidity  windspeed        conditions format  opposition  \n",
            "0  28-Sep-17  65.9      47.9       16.6             Clear   Test  Bangladesh  \n",
            "1   6-Oct-17  59.9      56.3       11.4             Clear   Test  Bangladesh  \n",
            "2  22-Oct-17  69.5      76.7       15.9             Clear    ODI  Bangladesh  \n",
            "3  26-Dec-17  65.9      65.3       16.1  Partially cloudy   Test    Zimbabwe  \n",
            "4   5-Jan-18  70.3      70.5       27.7  Partially cloudy   Test       India  \n"
          ]
        }
      ]
    },
    {
      "cell_type": "code",
      "source": [
        "def remove_col(data):\n",
        "  del data['Start Date']\n",
        "  del data['Unnamed: 8']\n",
        "  return data\n",
        "\n",
        "data=remove_col(data)\n"
      ],
      "metadata": {
        "id": "DZlTXbN9dJpw"
      },
      "execution_count": null,
      "outputs": []
    },
    {
      "cell_type": "code",
      "source": [
        "def weather(data):\n",
        "  data['temp'].fillna('60', inplace=True)\n",
        "  data['humidity'].fillna('65', inplace=True)\n",
        "  data['windspeed'].fillna('5', inplace=True)\n",
        "  data['conditions'].fillna('Partially cloudy', inplace=True)\n",
        "  return data\n",
        "\n",
        "data=weather(data)"
      ],
      "metadata": {
        "id": "148ZSHoHVCwj"
      },
      "execution_count": null,
      "outputs": []
    },
    {
      "cell_type": "code",
      "source": [
        "def change(data):\n",
        "    for i in range(len(data['Runs'])):\n",
        "      data['Runs'][i]=data['Runs'][i].strip()\n",
        "      data['BF'][i]=data['BF'][i].strip()\n",
        "      data['4s'][i]=data['4s'][i].strip()\n",
        "      data['6s'][i]=data['6s'][i].strip()\n",
        "      if data['Runs'][i]== '-':\n",
        "        data['Runs'][i]='0'\n",
        "      if data['BF'][i]=='-':\n",
        "        data['BF'][i]='0'\n",
        "      if data['4s'][i]=='-':\n",
        "        data['4s'][i]='0'\n",
        "      if data['6s'][i]=='-':\n",
        "        data['6s'][i]='0'\n",
        "\n",
        "\n",
        "    return data\n",
        "\n",
        "data=change(data)\n"
      ],
      "metadata": {
        "id": "pEZEujwjTOGQ",
        "colab": {
          "base_uri": "https://localhost:8080/"
        },
        "outputId": "511d8caf-f13d-477e-bbb3-a59ee8190c1d"
      },
      "execution_count": null,
      "outputs": [
        {
          "output_type": "stream",
          "name": "stderr",
          "text": [
            "<ipython-input-12-c4e20358d2e1>:3: SettingWithCopyWarning: \n",
            "A value is trying to be set on a copy of a slice from a DataFrame\n",
            "\n",
            "See the caveats in the documentation: https://pandas.pydata.org/pandas-docs/stable/user_guide/indexing.html#returning-a-view-versus-a-copy\n",
            "  data['Runs'][i]=data['Runs'][i].strip()\n",
            "<ipython-input-12-c4e20358d2e1>:4: SettingWithCopyWarning: \n",
            "A value is trying to be set on a copy of a slice from a DataFrame\n",
            "\n",
            "See the caveats in the documentation: https://pandas.pydata.org/pandas-docs/stable/user_guide/indexing.html#returning-a-view-versus-a-copy\n",
            "  data['BF'][i]=data['BF'][i].strip()\n",
            "<ipython-input-12-c4e20358d2e1>:5: SettingWithCopyWarning: \n",
            "A value is trying to be set on a copy of a slice from a DataFrame\n",
            "\n",
            "See the caveats in the documentation: https://pandas.pydata.org/pandas-docs/stable/user_guide/indexing.html#returning-a-view-versus-a-copy\n",
            "  data['4s'][i]=data['4s'][i].strip()\n",
            "<ipython-input-12-c4e20358d2e1>:6: SettingWithCopyWarning: \n",
            "A value is trying to be set on a copy of a slice from a DataFrame\n",
            "\n",
            "See the caveats in the documentation: https://pandas.pydata.org/pandas-docs/stable/user_guide/indexing.html#returning-a-view-versus-a-copy\n",
            "  data['6s'][i]=data['6s'][i].strip()\n",
            "<ipython-input-12-c4e20358d2e1>:8: SettingWithCopyWarning: \n",
            "A value is trying to be set on a copy of a slice from a DataFrame\n",
            "\n",
            "See the caveats in the documentation: https://pandas.pydata.org/pandas-docs/stable/user_guide/indexing.html#returning-a-view-versus-a-copy\n",
            "  data['Runs'][i]='0'\n",
            "<ipython-input-12-c4e20358d2e1>:10: SettingWithCopyWarning: \n",
            "A value is trying to be set on a copy of a slice from a DataFrame\n",
            "\n",
            "See the caveats in the documentation: https://pandas.pydata.org/pandas-docs/stable/user_guide/indexing.html#returning-a-view-versus-a-copy\n",
            "  data['BF'][i]='0'\n",
            "<ipython-input-12-c4e20358d2e1>:12: SettingWithCopyWarning: \n",
            "A value is trying to be set on a copy of a slice from a DataFrame\n",
            "\n",
            "See the caveats in the documentation: https://pandas.pydata.org/pandas-docs/stable/user_guide/indexing.html#returning-a-view-versus-a-copy\n",
            "  data['4s'][i]='0'\n",
            "<ipython-input-12-c4e20358d2e1>:14: SettingWithCopyWarning: \n",
            "A value is trying to be set on a copy of a slice from a DataFrame\n",
            "\n",
            "See the caveats in the documentation: https://pandas.pydata.org/pandas-docs/stable/user_guide/indexing.html#returning-a-view-versus-a-copy\n",
            "  data['6s'][i]='0'\n"
          ]
        }
      ]
    },
    {
      "cell_type": "markdown",
      "source": [
        "converting player , ground , conditions, opposition,format into index value"
      ],
      "metadata": {
        "id": "Na7cq7sV-JfK"
      }
    },
    {
      "cell_type": "code",
      "source": [
        "import numpy as np\n",
        "import pickle"
      ],
      "metadata": {
        "id": "Jwiq2O3rWZGk"
      },
      "execution_count": null,
      "outputs": []
    },
    {
      "cell_type": "code",
      "source": [
        "def to_float(data):\n",
        "  for i in range(len(data)):\n",
        "    data['Runs'][i]=float(data['Runs'][i])\n",
        "    data['4s'][i]=int(data['4s'][i])\n",
        "    data['6s'][i]=int(data['6s'][i])\n",
        "    data['temp'][i]=float(data['temp'][i])\n",
        "    data['humidity'][i]=float(data['humidity'][i])\n",
        "    data['windspeed'][i]=float(data['windspeed'][i])\n",
        "\n",
        "  return data\n",
        "\n",
        "data=to_float(data)"
      ],
      "metadata": {
        "id": "ttCAChal6cc8",
        "colab": {
          "base_uri": "https://localhost:8080/"
        },
        "outputId": "920b11a3-6e6f-4c01-94fa-ffd51e84d461"
      },
      "execution_count": null,
      "outputs": [
        {
          "output_type": "stream",
          "name": "stderr",
          "text": [
            "<ipython-input-13-9f0c86ab4999>:3: SettingWithCopyWarning: \n",
            "A value is trying to be set on a copy of a slice from a DataFrame\n",
            "\n",
            "See the caveats in the documentation: https://pandas.pydata.org/pandas-docs/stable/user_guide/indexing.html#returning-a-view-versus-a-copy\n",
            "  data['Runs'][i]=float(data['Runs'][i])\n",
            "<ipython-input-13-9f0c86ab4999>:4: SettingWithCopyWarning: \n",
            "A value is trying to be set on a copy of a slice from a DataFrame\n",
            "\n",
            "See the caveats in the documentation: https://pandas.pydata.org/pandas-docs/stable/user_guide/indexing.html#returning-a-view-versus-a-copy\n",
            "  data['4s'][i]=int(data['4s'][i])\n",
            "<ipython-input-13-9f0c86ab4999>:5: SettingWithCopyWarning: \n",
            "A value is trying to be set on a copy of a slice from a DataFrame\n",
            "\n",
            "See the caveats in the documentation: https://pandas.pydata.org/pandas-docs/stable/user_guide/indexing.html#returning-a-view-versus-a-copy\n",
            "  data['6s'][i]=int(data['6s'][i])\n"
          ]
        }
      ]
    },
    {
      "cell_type": "code",
      "source": [
        "print(data['4s'].max())"
      ],
      "metadata": {
        "colab": {
          "base_uri": "https://localhost:8080/"
        },
        "id": "sLkZSHto5dNW",
        "outputId": "e5ca8bba-f9da-4450-bcdc-1ab3d7ff13fc"
      },
      "execution_count": null,
      "outputs": [
        {
          "output_type": "stream",
          "name": "stdout",
          "text": [
            "39\n"
          ]
        }
      ]
    },
    {
      "cell_type": "code",
      "source": [
        "print(data['6s'].max())"
      ],
      "metadata": {
        "colab": {
          "base_uri": "https://localhost:8080/"
        },
        "id": "TPSRInTz5gYu",
        "outputId": "1f1faa61-04f7-40f9-e868-08f573d749b3"
      },
      "execution_count": null,
      "outputs": [
        {
          "output_type": "stream",
          "name": "stdout",
          "text": [
            "16\n"
          ]
        }
      ]
    },
    {
      "cell_type": "code",
      "source": [
        "def convert_player(one_data):\n",
        "  indices=[]\n",
        "  for i in range(len(one_data)):\n",
        "    if one_data['Player'][i] not in indices:\n",
        "      indices.append(one_data['Player'][i])\n",
        "\n",
        "  for i in range(len(one_data)):\n",
        "    one_data['Player'][i]=np.uint8(indices.index(one_data['Player'][i]))\n",
        "\n",
        "  with open('/content/drive/MyDrive/files/player.pkl', 'wb') as f:\n",
        "    pickle.dump(indices, f)\n",
        "\n",
        "  return one_data\n",
        "\n",
        "\n",
        "def convert_ground(one_hot_encoded):\n",
        "  indices=[]\n",
        "  for i in range(len(one_hot_encoded)):\n",
        "    if one_hot_encoded['Ground'][i] not in indices:\n",
        "      indices.append(one_hot_encoded['Ground'][i])\n",
        "\n",
        "  for i in range(len(one_hot_encoded)):\n",
        "    one_hot_encoded['Ground'][i]=np.uint8(indices.index(one_hot_encoded['Ground'][i]))\n",
        "\n",
        "  with open('/content/drive/MyDrive/files/ground.pkl', 'wb') as f:\n",
        "    pickle.dump(indices, f)\n",
        "\n",
        "  return one_hot_encoded\n",
        "\n",
        "\n",
        "def convert_conditions(one_hot_encoded):\n",
        "  indices=[]\n",
        "  for i in range(len(one_hot_encoded)):\n",
        "    if one_hot_encoded['conditions'][i] not in indices:\n",
        "      indices.append(one_hot_encoded['conditions'][i])\n",
        "\n",
        "  for i in range(len(one_hot_encoded)):\n",
        "    one_hot_encoded['conditions'][i]=np.uint8(indices.index(one_hot_encoded['conditions'][i]))\n",
        "\n",
        "  with open('/content/drive/MyDrive/files/conditions.pkl', 'wb') as f:\n",
        "    pickle.dump(indices, f)\n",
        "\n",
        "  return one_hot_encoded\n",
        "\n",
        "def convert_opposition(one_hot_encoded):\n",
        "  indices=[]\n",
        "  for i in range(len(one_hot_encoded)):\n",
        "    if one_hot_encoded['opposition'][i] not in indices:\n",
        "      indices.append(one_hot_encoded['opposition'][i])\n",
        "\n",
        "  for i in range(len(one_hot_encoded)):\n",
        "    one_hot_encoded['opposition'][i]=np.uint8(indices.index(one_hot_encoded['opposition'][i]))\n",
        "\n",
        "  with open('/content/drive/MyDrive/files/opposition.pkl', 'wb') as f:\n",
        "    pickle.dump(indices, f)\n",
        "\n",
        "  return one_hot_encoded\n",
        "\n",
        "\n",
        "def convert_format(one_hot_encoded):\n",
        "  indices=[]\n",
        "  for i in range(len(one_hot_encoded)):\n",
        "    if one_hot_encoded['format'][i] not in indices:\n",
        "      indices.append(one_hot_encoded['format'][i])\n",
        "\n",
        "  for i in range(len(one_hot_encoded)):\n",
        "    one_hot_encoded['format'][i]=np.uint8(indices.index(one_hot_encoded['format'][i]))\n",
        "\n",
        "  with open('/content/drive/MyDrive/files/format.pkl', 'wb') as f:\n",
        "    pickle.dump(indices, f)\n",
        "\n",
        "  return one_hot_encoded\n",
        "\n",
        "def convert_temp(one_hot_encoded):\n",
        "  indices=[]\n",
        "  for i in range(len(one_hot_encoded)):\n",
        "    if one_hot_encoded['temp'][i] not in indices:\n",
        "      indices.append(one_hot_encoded['temp'][i])\n",
        "\n",
        "  for i in range(len(one_hot_encoded)):\n",
        "    one_hot_encoded['temp'][i]=np.uint8(indices.index(one_hot_encoded['temp'][i]))\n",
        "\n",
        "  with open('/content/drive/MyDrive/files/temp.pkl', 'wb') as f:\n",
        "    pickle.dump(indices, f)\n",
        "\n",
        "  return one_hot_encoded\n",
        "\n",
        "def convert_windspeed(one_hot_encoded):\n",
        "  indices=[]\n",
        "  for i in range(len(one_hot_encoded)):\n",
        "    if one_hot_encoded['windspeed'][i] not in indices:\n",
        "      indices.append(one_hot_encoded['windspeed'][i])\n",
        "\n",
        "  for i in range(len(one_hot_encoded)):\n",
        "    one_hot_encoded['windspeed'][i]=np.uint8(indices.index(one_hot_encoded['windspeed'][i]))\n",
        "\n",
        "  with open('/content/drive/MyDrive/files/windspeed.pkl', 'wb') as f:\n",
        "    pickle.dump(indices, f)\n",
        "\n",
        "  return one_hot_encoded\n",
        "\n",
        "def convert_humidity(one_hot_encoded):\n",
        "  indices=[]\n",
        "  for i in range(len(one_hot_encoded)):\n",
        "    if one_hot_encoded['humidity'][i] not in indices:\n",
        "      indices.append(one_hot_encoded['humidity'][i])\n",
        "\n",
        "  for i in range(len(one_hot_encoded)):\n",
        "    one_hot_encoded['humidity'][i]=np.uint8(indices.index(one_hot_encoded['humidity'][i]))\n",
        "\n",
        "  with open('/content/drive/MyDrive/files/humidity.pkl', 'wb') as f:\n",
        "    pickle.dump(indices, f)\n",
        "\n",
        "  return one_hot_encoded\n",
        "\n",
        "data=convert_player(data)\n",
        "data=convert_ground(data)\n",
        "data=convert_conditions(data)\n",
        "data=convert_opposition(data)\n",
        "data=convert_format(data)\n",
        "data=convert_temp(data)\n",
        "data=convert_windspeed(data)\n",
        "data=convert_humidity(data)\n",
        "\n",
        "\n"
      ],
      "metadata": {
        "id": "oiBL78N-9036",
        "colab": {
          "base_uri": "https://localhost:8080/"
        },
        "outputId": "4d637f1c-e508-4832-f764-ac056e88bb6e"
      },
      "execution_count": null,
      "outputs": [
        {
          "output_type": "stream",
          "name": "stderr",
          "text": [
            "<ipython-input-16-36fcb3651559>:8: SettingWithCopyWarning: \n",
            "A value is trying to be set on a copy of a slice from a DataFrame\n",
            "\n",
            "See the caveats in the documentation: https://pandas.pydata.org/pandas-docs/stable/user_guide/indexing.html#returning-a-view-versus-a-copy\n",
            "  one_data['Player'][i]=np.uint8(indices.index(one_data['Player'][i]))\n",
            "<ipython-input-16-36fcb3651559>:23: SettingWithCopyWarning: \n",
            "A value is trying to be set on a copy of a slice from a DataFrame\n",
            "\n",
            "See the caveats in the documentation: https://pandas.pydata.org/pandas-docs/stable/user_guide/indexing.html#returning-a-view-versus-a-copy\n",
            "  one_hot_encoded['Ground'][i]=np.uint8(indices.index(one_hot_encoded['Ground'][i]))\n",
            "<ipython-input-16-36fcb3651559>:38: SettingWithCopyWarning: \n",
            "A value is trying to be set on a copy of a slice from a DataFrame\n",
            "\n",
            "See the caveats in the documentation: https://pandas.pydata.org/pandas-docs/stable/user_guide/indexing.html#returning-a-view-versus-a-copy\n",
            "  one_hot_encoded['conditions'][i]=np.uint8(indices.index(one_hot_encoded['conditions'][i]))\n",
            "<ipython-input-16-36fcb3651559>:52: SettingWithCopyWarning: \n",
            "A value is trying to be set on a copy of a slice from a DataFrame\n",
            "\n",
            "See the caveats in the documentation: https://pandas.pydata.org/pandas-docs/stable/user_guide/indexing.html#returning-a-view-versus-a-copy\n",
            "  one_hot_encoded['opposition'][i]=np.uint8(indices.index(one_hot_encoded['opposition'][i]))\n",
            "<ipython-input-16-36fcb3651559>:67: SettingWithCopyWarning: \n",
            "A value is trying to be set on a copy of a slice from a DataFrame\n",
            "\n",
            "See the caveats in the documentation: https://pandas.pydata.org/pandas-docs/stable/user_guide/indexing.html#returning-a-view-versus-a-copy\n",
            "  one_hot_encoded['format'][i]=np.uint8(indices.index(one_hot_encoded['format'][i]))\n"
          ]
        }
      ]
    },
    {
      "cell_type": "markdown",
      "source": [
        "Runs:\n",
        "\n",
        "0-30,30-60 ,60-100 ,100-150,150-200,200+\n",
        "\n",
        "0 , 1 , 2 , 3 , 4 , 5"
      ],
      "metadata": {
        "id": "k1Q-RwNQRmsB"
      }
    },
    {
      "cell_type": "code",
      "source": [
        "import math\n",
        "def change_runs(one_hot_encoded):\n",
        "  for i in range(len(one_hot_encoded['Runs'])):\n",
        "    int_runs=round(one_hot_encoded['Runs'][i])\n",
        "    if int_runs<30:\n",
        "      one_hot_encoded['Runs'][i]=0\n",
        "    elif int_runs>=30 and int_runs<60:\n",
        "      one_hot_encoded['Runs'][i]=1\n",
        "    elif int_runs>=60 and int_runs<100:\n",
        "      one_hot_encoded['Runs'][i]=2\n",
        "    elif int_runs>=100 and int_runs<150:\n",
        "      one_hot_encoded['Runs'][i]=3\n",
        "    elif int_runs>=150 and int_runs<200:\n",
        "      one_hot_encoded['Runs'][i]=4\n",
        "    else:\n",
        "      one_hot_encoded['Runs'][i]=5\n",
        "\n",
        "    # one_hot_encoded['Runs'][i]=np.uint8(classes.index((int(one_hot_encoded['Runs'][i])//20)*20))\n",
        "\n",
        "  return one_hot_encoded\n",
        "\n",
        "# 0-5 , 5-10 , 10-20 , 20+\n",
        "def change_4(one_hot_encoded):\n",
        "  for i in range(len(one_hot_encoded)):\n",
        "    int_runs=one_hot_encoded['4s'][i]\n",
        "    if int_runs<5:\n",
        "      int_runs=0\n",
        "    elif int_runs>=5 and int_runs<10:\n",
        "      int_runs=1\n",
        "    elif int_runs>=10 and int_runs<20:\n",
        "      int_runs=2\n",
        "    else:\n",
        "      int_runs=3\n",
        "    one_hot_encoded['4s'][i]=int_runs\n",
        "\n",
        "#   return one_hot_encoded\n",
        "\n",
        "#0-3 , 3-6 , 6-10 , 10+\n",
        "def change_six(one_hot_encoded):\n",
        "  for i in range(len(one_hot_encoded)):\n",
        "    int_runs=one_hot_encoded['6s'][i]\n",
        "    if int_runs<3:\n",
        "      int_runs=0\n",
        "    elif int_runs>=3 and int_runs<6:\n",
        "      int_runs=1\n",
        "    elif int_runs>=6 and int_runs<10:\n",
        "      int_runs=2\n",
        "    elif int_runs>=10:\n",
        "      int_runs=3\n",
        "    one_hot_encoded['6s'][i]=int_runs\n",
        "  return one_hot_encoded\n",
        "\n",
        "data=change_runs(data)\n",
        "# data=change_six(data)"
      ],
      "metadata": {
        "id": "OCFWBQsFzlVs",
        "colab": {
          "base_uri": "https://localhost:8080/"
        },
        "outputId": "012b5f2c-57e3-4230-a387-5b2316e635ae"
      },
      "execution_count": null,
      "outputs": [
        {
          "output_type": "stream",
          "name": "stderr",
          "text": [
            "<ipython-input-17-25b267f4b0d3>:12: SettingWithCopyWarning: \n",
            "A value is trying to be set on a copy of a slice from a DataFrame\n",
            "\n",
            "See the caveats in the documentation: https://pandas.pydata.org/pandas-docs/stable/user_guide/indexing.html#returning-a-view-versus-a-copy\n",
            "  one_hot_encoded['Runs'][i]=3\n",
            "<ipython-input-17-25b267f4b0d3>:10: SettingWithCopyWarning: \n",
            "A value is trying to be set on a copy of a slice from a DataFrame\n",
            "\n",
            "See the caveats in the documentation: https://pandas.pydata.org/pandas-docs/stable/user_guide/indexing.html#returning-a-view-versus-a-copy\n",
            "  one_hot_encoded['Runs'][i]=2\n",
            "<ipython-input-17-25b267f4b0d3>:8: SettingWithCopyWarning: \n",
            "A value is trying to be set on a copy of a slice from a DataFrame\n",
            "\n",
            "See the caveats in the documentation: https://pandas.pydata.org/pandas-docs/stable/user_guide/indexing.html#returning-a-view-versus-a-copy\n",
            "  one_hot_encoded['Runs'][i]=1\n",
            "<ipython-input-17-25b267f4b0d3>:6: SettingWithCopyWarning: \n",
            "A value is trying to be set on a copy of a slice from a DataFrame\n",
            "\n",
            "See the caveats in the documentation: https://pandas.pydata.org/pandas-docs/stable/user_guide/indexing.html#returning-a-view-versus-a-copy\n",
            "  one_hot_encoded['Runs'][i]=0\n",
            "<ipython-input-17-25b267f4b0d3>:14: SettingWithCopyWarning: \n",
            "A value is trying to be set on a copy of a slice from a DataFrame\n",
            "\n",
            "See the caveats in the documentation: https://pandas.pydata.org/pandas-docs/stable/user_guide/indexing.html#returning-a-view-versus-a-copy\n",
            "  one_hot_encoded['Runs'][i]=4\n",
            "<ipython-input-17-25b267f4b0d3>:16: SettingWithCopyWarning: \n",
            "A value is trying to be set on a copy of a slice from a DataFrame\n",
            "\n",
            "See the caveats in the documentation: https://pandas.pydata.org/pandas-docs/stable/user_guide/indexing.html#returning-a-view-versus-a-copy\n",
            "  one_hot_encoded['Runs'][i]=5\n"
          ]
        }
      ]
    },
    {
      "cell_type": "markdown",
      "source": [
        "One hot encoding:"
      ],
      "metadata": {
        "id": "bXcWy94LNPmn"
      }
    },
    {
      "cell_type": "code",
      "source": [
        "category_column = 'Player'\n",
        "\n",
        "# Apply one-hot encoding to the 'category_column'\n",
        "data = pd.get_dummies(data, columns=[category_column])"
      ],
      "metadata": {
        "id": "mpyCq2yrzMPB",
        "colab": {
          "base_uri": "https://localhost:8080/"
        },
        "outputId": "a4e18b6e-4ef0-4c31-b1d1-de4987693d04"
      },
      "execution_count": null,
      "outputs": [
        {
          "output_type": "stream",
          "name": "stderr",
          "text": [
            "<ipython-input-18-7869bf4bd8ca>:4: FutureWarning: In a future version, the Index constructor will not infer numeric dtypes when passed object-dtype sequences (matching Series behavior)\n",
            "  data = pd.get_dummies(data, columns=[category_column])\n"
          ]
        }
      ]
    },
    {
      "cell_type": "code",
      "source": [
        "category_column = 'format'\n",
        "\n",
        "# Apply one-hot encoding to the 'category_column'\n",
        "data = pd.get_dummies(data, columns=[category_column])"
      ],
      "metadata": {
        "colab": {
          "base_uri": "https://localhost:8080/"
        },
        "id": "VgKNY4pWNHGm",
        "outputId": "d88f5b98-f40c-45a0-9261-c3b614f04359"
      },
      "execution_count": null,
      "outputs": [
        {
          "output_type": "stream",
          "name": "stderr",
          "text": [
            "<ipython-input-19-8616e39a1b18>:4: FutureWarning: In a future version, the Index constructor will not infer numeric dtypes when passed object-dtype sequences (matching Series behavior)\n",
            "  data = pd.get_dummies(data, columns=[category_column])\n"
          ]
        }
      ]
    },
    {
      "cell_type": "code",
      "source": [
        "category_column = 'Ground'\n",
        "\n",
        "# Apply one-hot encoding to the 'category_column'\n",
        "data = pd.get_dummies(data, columns=[category_column])"
      ],
      "metadata": {
        "colab": {
          "base_uri": "https://localhost:8080/"
        },
        "id": "Rrg--hOZebe3",
        "outputId": "29f46130-bf5d-4687-80b3-a460e8d80bd9"
      },
      "execution_count": null,
      "outputs": [
        {
          "output_type": "stream",
          "name": "stderr",
          "text": [
            "<ipython-input-20-fc380523dc30>:4: FutureWarning: In a future version, the Index constructor will not infer numeric dtypes when passed object-dtype sequences (matching Series behavior)\n",
            "  data = pd.get_dummies(data, columns=[category_column])\n"
          ]
        }
      ]
    },
    {
      "cell_type": "code",
      "source": [
        "category_column = 'conditions'\n",
        "\n",
        "# Apply one-hot encoding to the 'category_column'\n",
        "data = pd.get_dummies(data, columns=[category_column])"
      ],
      "metadata": {
        "colab": {
          "base_uri": "https://localhost:8080/"
        },
        "id": "_1EnonFQfKkY",
        "outputId": "059661e0-b251-4c30-b906-d14ac5ef00f7"
      },
      "execution_count": null,
      "outputs": [
        {
          "output_type": "stream",
          "name": "stderr",
          "text": [
            "<ipython-input-21-aedda7eded23>:4: FutureWarning: In a future version, the Index constructor will not infer numeric dtypes when passed object-dtype sequences (matching Series behavior)\n",
            "  data = pd.get_dummies(data, columns=[category_column])\n"
          ]
        }
      ]
    },
    {
      "cell_type": "code",
      "source": [
        "category_column = 'opposition'\n",
        "\n",
        "# Apply one-hot encoding to the 'category_column'\n",
        "data = pd.get_dummies(data, columns=[category_column])"
      ],
      "metadata": {
        "colab": {
          "base_uri": "https://localhost:8080/"
        },
        "id": "uvYKgN5GNHNm",
        "outputId": "369f7974-8bfc-4416-ad33-871801c4e4d8"
      },
      "execution_count": null,
      "outputs": [
        {
          "output_type": "stream",
          "name": "stderr",
          "text": [
            "<ipython-input-22-badcfc4a7fa5>:4: FutureWarning: In a future version, the Index constructor will not infer numeric dtypes when passed object-dtype sequences (matching Series behavior)\n",
            "  data = pd.get_dummies(data, columns=[category_column])\n"
          ]
        }
      ]
    },
    {
      "cell_type": "code",
      "source": [
        "print(data.columns)\n",
        "print(len(data.columns))"
      ],
      "metadata": {
        "colab": {
          "base_uri": "https://localhost:8080/"
        },
        "id": "kxqPpYr8NUDX",
        "outputId": "7b407b82-ce6c-4167-8fc0-636bc57f5159"
      },
      "execution_count": null,
      "outputs": [
        {
          "output_type": "stream",
          "name": "stdout",
          "text": [
            "Index(['Bat1', 'Bat2', 'Runs', 'BF', 'SR', '4s', '6s', 'temp', 'humidity',\n",
            "       'windspeed',\n",
            "       ...\n",
            "       'opposition_Nepal', 'opposition_Netherlands', 'opposition_New Zealand',\n",
            "       'opposition_Pakistan', 'opposition_Scotland', 'opposition_South Africa',\n",
            "       'opposition_Sri Lanka', 'opposition_U.A.E.', 'opposition_West Indies',\n",
            "       'opposition_Zimbabwe'],\n",
            "      dtype='object', length=170)\n",
            "170\n"
          ]
        }
      ]
    },
    {
      "cell_type": "code",
      "source": [
        "cols=[]\n",
        "for i in data.columns:\n",
        "  if 'Player' in i or 'opposition' in i or 'conditions' in i or 'Ground' in i or 'format' in i:\n",
        "    str(cols.append(i))\n",
        "\n",
        "print(len(cols))"
      ],
      "metadata": {
        "colab": {
          "base_uri": "https://localhost:8080/"
        },
        "id": "GLqtiCyvNXS5",
        "outputId": "dfdbc1d8-8629-4730-a7ea-df4fdff5d23b"
      },
      "execution_count": null,
      "outputs": [
        {
          "output_type": "stream",
          "name": "stdout",
          "text": [
            "160\n"
          ]
        }
      ]
    },
    {
      "cell_type": "code",
      "source": [
        "print(len(cols))"
      ],
      "metadata": {
        "colab": {
          "base_uri": "https://localhost:8080/"
        },
        "id": "g_LSmZwAKkGv",
        "outputId": "723679b4-6db3-415f-99c4-e526fff44c7c"
      },
      "execution_count": null,
      "outputs": [
        {
          "output_type": "stream",
          "name": "stdout",
          "text": [
            "160\n"
          ]
        }
      ]
    },
    {
      "cell_type": "code",
      "source": [
        "y = data['Runs']\n",
        "X = data[cols[::]]"
      ],
      "metadata": {
        "id": "WX2f2po_LDRQ"
      },
      "execution_count": null,
      "outputs": []
    },
    {
      "cell_type": "code",
      "source": [
        "print(y.max())"
      ],
      "metadata": {
        "colab": {
          "base_uri": "https://localhost:8080/"
        },
        "id": "euLWGq19FEUz",
        "outputId": "01289c79-0e16-4c7c-ba27-e7e4fcdea9d8"
      },
      "execution_count": null,
      "outputs": [
        {
          "output_type": "stream",
          "name": "stdout",
          "text": [
            "5\n"
          ]
        }
      ]
    },
    {
      "cell_type": "code",
      "source": [
        "y = pd.get_dummies(y, columns=['Runs'])"
      ],
      "metadata": {
        "id": "1Df-5nqs8A2r",
        "colab": {
          "base_uri": "https://localhost:8080/"
        },
        "outputId": "9ccfdf99-ef9e-4d9c-bac2-9f7921f889b5"
      },
      "execution_count": null,
      "outputs": [
        {
          "output_type": "stream",
          "name": "stderr",
          "text": [
            "<ipython-input-717-f84c48d743cf>:1: FutureWarning: In a future version, the Index constructor will not infer numeric dtypes when passed object-dtype sequences (matching Series behavior)\n",
            "  y = pd.get_dummies(y, columns=['Runs'])\n"
          ]
        }
      ]
    },
    {
      "cell_type": "code",
      "source": [
        "print(y.columns)"
      ],
      "metadata": {
        "colab": {
          "base_uri": "https://localhost:8080/"
        },
        "id": "Q0xZT7s4IOX0",
        "outputId": "c6b35834-4376-4b7a-b74c-c5bcdef03ce0"
      },
      "execution_count": null,
      "outputs": [
        {
          "output_type": "stream",
          "name": "stdout",
          "text": [
            "Int64Index([0, 1, 2, 3, 4, 5], dtype='int64')\n"
          ]
        }
      ]
    },
    {
      "cell_type": "markdown",
      "source": [
        "----------------------------------------------------------------------------"
      ],
      "metadata": {
        "id": "1hvo8OCfptTL"
      }
    },
    {
      "cell_type": "markdown",
      "source": [
        "---------------------------------------------------"
      ],
      "metadata": {
        "id": "Tl1zmAXyEfcc"
      }
    },
    {
      "cell_type": "markdown",
      "source": [
        "splitting such that every player is there in both splits atleast once"
      ],
      "metadata": {
        "id": "t9AocsNroVYx"
      }
    },
    {
      "cell_type": "code",
      "source": [
        "from sklearn.model_selection import train_test_split\n",
        "X_train, X_test, y_train, y_test = train_test_split(X, y, test_size=0.5)\n",
        "X_val, X_test, y_val, y_test = train_test_split(X_test, y_test, test_size=0.5)"
      ],
      "metadata": {
        "id": "93d4zmdK16qP"
      },
      "execution_count": null,
      "outputs": []
    },
    {
      "cell_type": "code",
      "source": [
        "import numpy as np\n",
        "X_train=X_train.astype(np.float32)\n",
        "y_train=y_train.astype(np.float32)\n",
        "X_val=X_val.astype(np.float32)\n",
        "y_val=y_val.astype(np.float32)\n",
        "X_test=X_test.astype(np.float32)\n",
        "y_test=y_test.astype(np.float32)"
      ],
      "metadata": {
        "id": "I79rEoYnPSIg"
      },
      "execution_count": null,
      "outputs": []
    },
    {
      "cell_type": "code",
      "source": [
        "import tensorflow as tf"
      ],
      "metadata": {
        "id": "JoGvAf4jHuN-"
      },
      "execution_count": null,
      "outputs": []
    },
    {
      "cell_type": "code",
      "source": [
        "X_train=tf.convert_to_tensor(X_train)\n",
        "y_train=tf.convert_to_tensor(y_train)\n",
        "X_val=tf.convert_to_tensor(X_val)\n",
        "y_val=tf.convert_to_tensor(y_val)\n",
        "X_test=tf.convert_to_tensor(X_test)\n",
        "y_test=tf.convert_to_tensor(y_test)\n"
      ],
      "metadata": {
        "id": "PRp68mANPSIh"
      },
      "execution_count": null,
      "outputs": []
    },
    {
      "cell_type": "markdown",
      "source": [
        "## **using NN**"
      ],
      "metadata": {
        "id": "KJPij_p_3LIG"
      }
    },
    {
      "cell_type": "code",
      "source": [
        "print(X.columns)"
      ],
      "metadata": {
        "colab": {
          "base_uri": "https://localhost:8080/"
        },
        "id": "xKSVaMOGRLvq",
        "outputId": "4de66d65-8268-421e-cdef-36c8d79fbdf3"
      },
      "execution_count": null,
      "outputs": [
        {
          "output_type": "stream",
          "name": "stdout",
          "text": [
            "Index(['Player_AK Markram', 'Player_BA Stokes', 'Player_DA Warner',\n",
            "       'Player_GD Phillips', 'Player_GJ Maxwell', 'Player_H Klaasen',\n",
            "       'Player_JC Buttler', 'Player_JM Bairstow', 'Player_KL Rahul',\n",
            "       'Player_KS Williamson',\n",
            "       ...\n",
            "       'opposition_Nepal', 'opposition_Netherlands', 'opposition_New Zealand',\n",
            "       'opposition_Pakistan', 'opposition_Scotland', 'opposition_South Africa',\n",
            "       'opposition_Sri Lanka', 'opposition_U.A.E.', 'opposition_West Indies',\n",
            "       'opposition_Zimbabwe'],\n",
            "      dtype='object', length=160)\n"
          ]
        }
      ]
    },
    {
      "cell_type": "code",
      "source": [
        "import tensorflow as tf\n",
        "from tensorflow import keras\n",
        "from keras import regularizers\n",
        "from keras.optimizers import Adam\n",
        "from keras.regularizers import l2\n",
        "# from tensorflow.keras.losses import SparseCategoricalCrossentropy"
      ],
      "metadata": {
        "id": "PSfawO4L16qO"
      },
      "execution_count": null,
      "outputs": []
    },
    {
      "cell_type": "code",
      "source": [
        "model= keras.Sequential([\n",
        "    keras.layers.Dense(64,activation=\"relu\", kernel_regularizer=l2(0.2)),\n",
        "    keras.layers.Dense(32,activation=\"relu\", kernel_regularizer=l2(0.2)),\n",
        "    keras.layers.Dense(16,activation=\"relu\", kernel_regularizer=l2(0.2)),\n",
        "    keras.layers.Dense(6,activation=\"softmax\")\n",
        "])"
      ],
      "metadata": {
        "id": "wTWo6E0Q16qP"
      },
      "execution_count": null,
      "outputs": []
    },
    {
      "cell_type": "code",
      "source": [
        "optimizer=Adam(learning_rate=0.000001)"
      ],
      "metadata": {
        "id": "fNQ1saj5H88u"
      },
      "execution_count": null,
      "outputs": []
    },
    {
      "cell_type": "code",
      "source": [
        "model.compile(loss='categorical_crossentropy', optimizer=optimizer, metrics=['accuracy'])"
      ],
      "metadata": {
        "id": "ap3ho20I16qP"
      },
      "execution_count": null,
      "outputs": []
    },
    {
      "cell_type": "code",
      "source": [
        "model.fit(X_train,y_train,epochs=85,batch_size=64,validation_data=(X_val,y_val))"
      ],
      "metadata": {
        "colab": {
          "base_uri": "https://localhost:8080/"
        },
        "outputId": "0b9f2388-25af-4cd1-8d25-8b0de18a8318",
        "id": "25MLdJJ_16qP"
      },
      "execution_count": null,
      "outputs": [
        {
          "output_type": "stream",
          "name": "stdout",
          "text": [
            "Epoch 1/85\n",
            "34/34 [==============================] - 4s 19ms/step - loss: 32.7975 - accuracy: 0.0880 - val_loss: 32.7867 - val_accuracy: 0.0876\n",
            "Epoch 2/85\n",
            "34/34 [==============================] - 0s 9ms/step - loss: 32.7813 - accuracy: 0.0880 - val_loss: 32.7705 - val_accuracy: 0.0876\n",
            "Epoch 3/85\n",
            "34/34 [==============================] - 0s 4ms/step - loss: 32.7651 - accuracy: 0.0875 - val_loss: 32.7543 - val_accuracy: 0.0876\n",
            "Epoch 4/85\n",
            "34/34 [==============================] - 0s 5ms/step - loss: 32.7489 - accuracy: 0.0880 - val_loss: 32.7382 - val_accuracy: 0.0876\n",
            "Epoch 5/85\n",
            "34/34 [==============================] - 0s 5ms/step - loss: 32.7327 - accuracy: 0.0880 - val_loss: 32.7220 - val_accuracy: 0.0876\n",
            "Epoch 6/85\n",
            "34/34 [==============================] - 0s 4ms/step - loss: 32.7166 - accuracy: 0.0880 - val_loss: 32.7058 - val_accuracy: 0.0876\n",
            "Epoch 7/85\n",
            "34/34 [==============================] - 0s 4ms/step - loss: 32.7004 - accuracy: 0.0880 - val_loss: 32.6897 - val_accuracy: 0.0876\n",
            "Epoch 8/85\n",
            "34/34 [==============================] - 0s 5ms/step - loss: 32.6843 - accuracy: 0.0884 - val_loss: 32.6735 - val_accuracy: 0.0876\n",
            "Epoch 9/85\n",
            "34/34 [==============================] - 0s 6ms/step - loss: 32.6681 - accuracy: 0.0884 - val_loss: 32.6574 - val_accuracy: 0.0866\n",
            "Epoch 10/85\n",
            "34/34 [==============================] - 0s 7ms/step - loss: 32.6520 - accuracy: 0.0889 - val_loss: 32.6412 - val_accuracy: 0.0876\n",
            "Epoch 11/85\n",
            "34/34 [==============================] - 0s 5ms/step - loss: 32.6359 - accuracy: 0.0889 - val_loss: 32.6251 - val_accuracy: 0.0876\n",
            "Epoch 12/85\n",
            "34/34 [==============================] - 0s 7ms/step - loss: 32.6197 - accuracy: 0.0889 - val_loss: 32.6090 - val_accuracy: 0.0876\n",
            "Epoch 13/85\n",
            "34/34 [==============================] - 0s 6ms/step - loss: 32.6036 - accuracy: 0.0889 - val_loss: 32.5929 - val_accuracy: 0.0876\n",
            "Epoch 14/85\n",
            "34/34 [==============================] - 0s 6ms/step - loss: 32.5875 - accuracy: 0.0889 - val_loss: 32.5768 - val_accuracy: 0.0876\n",
            "Epoch 15/85\n",
            "34/34 [==============================] - 0s 7ms/step - loss: 32.5714 - accuracy: 0.0889 - val_loss: 32.5607 - val_accuracy: 0.0876\n",
            "Epoch 16/85\n",
            "34/34 [==============================] - 0s 6ms/step - loss: 32.5553 - accuracy: 0.0889 - val_loss: 32.5446 - val_accuracy: 0.0876\n",
            "Epoch 17/85\n",
            "34/34 [==============================] - 0s 5ms/step - loss: 32.5393 - accuracy: 0.0889 - val_loss: 32.5285 - val_accuracy: 0.0876\n",
            "Epoch 18/85\n",
            "34/34 [==============================] - 0s 6ms/step - loss: 32.5232 - accuracy: 0.0889 - val_loss: 32.5124 - val_accuracy: 0.0876\n",
            "Epoch 19/85\n",
            "34/34 [==============================] - 0s 6ms/step - loss: 32.5071 - accuracy: 0.0889 - val_loss: 32.4964 - val_accuracy: 0.0876\n",
            "Epoch 20/85\n",
            "34/34 [==============================] - 0s 7ms/step - loss: 32.4911 - accuracy: 0.0889 - val_loss: 32.4803 - val_accuracy: 0.0866\n",
            "Epoch 21/85\n",
            "34/34 [==============================] - 0s 5ms/step - loss: 32.4750 - accuracy: 0.0889 - val_loss: 32.4643 - val_accuracy: 0.0876\n",
            "Epoch 22/85\n",
            "34/34 [==============================] - 0s 6ms/step - loss: 32.4590 - accuracy: 0.0889 - val_loss: 32.4482 - val_accuracy: 0.0876\n",
            "Epoch 23/85\n",
            "34/34 [==============================] - 0s 6ms/step - loss: 32.4429 - accuracy: 0.0889 - val_loss: 32.4322 - val_accuracy: 0.0876\n",
            "Epoch 24/85\n",
            "34/34 [==============================] - 0s 5ms/step - loss: 32.4269 - accuracy: 0.0889 - val_loss: 32.4162 - val_accuracy: 0.0876\n",
            "Epoch 25/85\n",
            "34/34 [==============================] - 0s 6ms/step - loss: 32.4109 - accuracy: 0.0889 - val_loss: 32.4002 - val_accuracy: 0.0876\n",
            "Epoch 26/85\n",
            "34/34 [==============================] - 0s 7ms/step - loss: 32.3949 - accuracy: 0.0889 - val_loss: 32.3842 - val_accuracy: 0.0876\n",
            "Epoch 27/85\n",
            "34/34 [==============================] - 0s 6ms/step - loss: 32.3789 - accuracy: 0.0889 - val_loss: 32.3682 - val_accuracy: 0.0876\n",
            "Epoch 28/85\n",
            "34/34 [==============================] - 0s 6ms/step - loss: 32.3629 - accuracy: 0.0894 - val_loss: 32.3522 - val_accuracy: 0.0876\n",
            "Epoch 29/85\n",
            "34/34 [==============================] - 0s 6ms/step - loss: 32.3469 - accuracy: 0.0898 - val_loss: 32.3362 - val_accuracy: 0.0876\n",
            "Epoch 30/85\n",
            "34/34 [==============================] - 0s 5ms/step - loss: 32.3309 - accuracy: 0.0898 - val_loss: 32.3202 - val_accuracy: 0.0876\n",
            "Epoch 31/85\n",
            "34/34 [==============================] - 0s 6ms/step - loss: 32.3150 - accuracy: 0.0898 - val_loss: 32.3042 - val_accuracy: 0.0876\n",
            "Epoch 32/85\n",
            "34/34 [==============================] - 0s 5ms/step - loss: 32.2990 - accuracy: 0.0898 - val_loss: 32.2883 - val_accuracy: 0.0885\n",
            "Epoch 33/85\n",
            "34/34 [==============================] - 0s 6ms/step - loss: 32.2830 - accuracy: 0.0898 - val_loss: 32.2723 - val_accuracy: 0.0885\n",
            "Epoch 34/85\n",
            "34/34 [==============================] - 0s 7ms/step - loss: 32.2671 - accuracy: 0.0898 - val_loss: 32.2564 - val_accuracy: 0.0885\n",
            "Epoch 35/85\n",
            "34/34 [==============================] - 0s 7ms/step - loss: 32.2511 - accuracy: 0.0898 - val_loss: 32.2404 - val_accuracy: 0.0885\n",
            "Epoch 36/85\n",
            "34/34 [==============================] - 0s 6ms/step - loss: 32.2352 - accuracy: 0.0898 - val_loss: 32.2245 - val_accuracy: 0.0885\n",
            "Epoch 37/85\n",
            "34/34 [==============================] - 0s 6ms/step - loss: 32.2193 - accuracy: 0.0894 - val_loss: 32.2086 - val_accuracy: 0.0885\n",
            "Epoch 38/85\n",
            "34/34 [==============================] - 0s 6ms/step - loss: 32.2034 - accuracy: 0.0889 - val_loss: 32.1927 - val_accuracy: 0.0894\n",
            "Epoch 39/85\n",
            "34/34 [==============================] - 0s 6ms/step - loss: 32.1875 - accuracy: 0.0889 - val_loss: 32.1768 - val_accuracy: 0.0894\n",
            "Epoch 40/85\n",
            "34/34 [==============================] - 0s 6ms/step - loss: 32.1716 - accuracy: 0.0889 - val_loss: 32.1609 - val_accuracy: 0.0894\n",
            "Epoch 41/85\n",
            "34/34 [==============================] - 0s 6ms/step - loss: 32.1557 - accuracy: 0.0889 - val_loss: 32.1450 - val_accuracy: 0.0903\n",
            "Epoch 42/85\n",
            "34/34 [==============================] - 0s 6ms/step - loss: 32.1398 - accuracy: 0.0894 - val_loss: 32.1291 - val_accuracy: 0.0903\n",
            "Epoch 43/85\n",
            "34/34 [==============================] - 0s 4ms/step - loss: 32.1239 - accuracy: 0.0894 - val_loss: 32.1132 - val_accuracy: 0.0903\n",
            "Epoch 44/85\n",
            "34/34 [==============================] - 0s 4ms/step - loss: 32.1080 - accuracy: 0.0894 - val_loss: 32.0974 - val_accuracy: 0.0903\n",
            "Epoch 45/85\n",
            "34/34 [==============================] - 0s 5ms/step - loss: 32.0922 - accuracy: 0.0894 - val_loss: 32.0815 - val_accuracy: 0.0903\n",
            "Epoch 46/85\n",
            "34/34 [==============================] - 0s 5ms/step - loss: 32.0763 - accuracy: 0.0894 - val_loss: 32.0656 - val_accuracy: 0.0903\n",
            "Epoch 47/85\n",
            "34/34 [==============================] - 0s 5ms/step - loss: 32.0605 - accuracy: 0.0894 - val_loss: 32.0498 - val_accuracy: 0.0903\n",
            "Epoch 48/85\n",
            "34/34 [==============================] - 0s 4ms/step - loss: 32.0446 - accuracy: 0.0894 - val_loss: 32.0340 - val_accuracy: 0.0903\n",
            "Epoch 49/85\n",
            "34/34 [==============================] - 0s 5ms/step - loss: 32.0288 - accuracy: 0.0894 - val_loss: 32.0181 - val_accuracy: 0.0903\n",
            "Epoch 50/85\n",
            "34/34 [==============================] - 0s 5ms/step - loss: 32.0130 - accuracy: 0.0898 - val_loss: 32.0023 - val_accuracy: 0.0903\n",
            "Epoch 51/85\n",
            "34/34 [==============================] - 0s 6ms/step - loss: 31.9972 - accuracy: 0.0898 - val_loss: 31.9865 - val_accuracy: 0.0903\n",
            "Epoch 52/85\n",
            "34/34 [==============================] - 0s 6ms/step - loss: 31.9814 - accuracy: 0.0898 - val_loss: 31.9707 - val_accuracy: 0.0903\n",
            "Epoch 53/85\n",
            "34/34 [==============================] - 0s 8ms/step - loss: 31.9656 - accuracy: 0.0903 - val_loss: 31.9549 - val_accuracy: 0.0903\n",
            "Epoch 54/85\n",
            "34/34 [==============================] - 0s 9ms/step - loss: 31.9498 - accuracy: 0.0903 - val_loss: 31.9391 - val_accuracy: 0.0903\n",
            "Epoch 55/85\n",
            "34/34 [==============================] - 0s 10ms/step - loss: 31.9340 - accuracy: 0.0903 - val_loss: 31.9233 - val_accuracy: 0.0894\n",
            "Epoch 56/85\n",
            "34/34 [==============================] - 0s 9ms/step - loss: 31.9182 - accuracy: 0.0903 - val_loss: 31.9075 - val_accuracy: 0.0894\n",
            "Epoch 57/85\n",
            "34/34 [==============================] - 0s 8ms/step - loss: 31.9024 - accuracy: 0.0903 - val_loss: 31.8917 - val_accuracy: 0.0894\n",
            "Epoch 58/85\n",
            "34/34 [==============================] - 0s 11ms/step - loss: 31.8867 - accuracy: 0.0907 - val_loss: 31.8760 - val_accuracy: 0.0894\n",
            "Epoch 59/85\n",
            "34/34 [==============================] - 0s 9ms/step - loss: 31.8709 - accuracy: 0.0903 - val_loss: 31.8602 - val_accuracy: 0.0894\n",
            "Epoch 60/85\n",
            "34/34 [==============================] - 0s 9ms/step - loss: 31.8552 - accuracy: 0.0903 - val_loss: 31.8445 - val_accuracy: 0.0894\n",
            "Epoch 61/85\n",
            "34/34 [==============================] - 0s 9ms/step - loss: 31.8394 - accuracy: 0.0903 - val_loss: 31.8287 - val_accuracy: 0.0894\n",
            "Epoch 62/85\n",
            "34/34 [==============================] - 0s 7ms/step - loss: 31.8237 - accuracy: 0.0903 - val_loss: 31.8130 - val_accuracy: 0.0894\n",
            "Epoch 63/85\n",
            "34/34 [==============================] - 0s 8ms/step - loss: 31.8079 - accuracy: 0.0903 - val_loss: 31.7973 - val_accuracy: 0.0894\n",
            "Epoch 64/85\n",
            "34/34 [==============================] - 0s 8ms/step - loss: 31.7922 - accuracy: 0.0903 - val_loss: 31.7815 - val_accuracy: 0.0894\n",
            "Epoch 65/85\n",
            "34/34 [==============================] - 0s 9ms/step - loss: 31.7765 - accuracy: 0.0903 - val_loss: 31.7658 - val_accuracy: 0.0894\n",
            "Epoch 66/85\n",
            "34/34 [==============================] - 0s 7ms/step - loss: 31.7608 - accuracy: 0.0907 - val_loss: 31.7501 - val_accuracy: 0.0894\n",
            "Epoch 67/85\n",
            "34/34 [==============================] - 0s 8ms/step - loss: 31.7451 - accuracy: 0.0903 - val_loss: 31.7344 - val_accuracy: 0.0894\n",
            "Epoch 68/85\n",
            "34/34 [==============================] - 0s 9ms/step - loss: 31.7294 - accuracy: 0.0907 - val_loss: 31.7187 - val_accuracy: 0.0894\n",
            "Epoch 69/85\n",
            "34/34 [==============================] - 0s 11ms/step - loss: 31.7137 - accuracy: 0.0912 - val_loss: 31.7030 - val_accuracy: 0.0894\n",
            "Epoch 70/85\n",
            "34/34 [==============================] - 0s 8ms/step - loss: 31.6980 - accuracy: 0.0912 - val_loss: 31.6873 - val_accuracy: 0.0894\n",
            "Epoch 71/85\n",
            "34/34 [==============================] - 0s 9ms/step - loss: 31.6823 - accuracy: 0.0912 - val_loss: 31.6717 - val_accuracy: 0.0894\n",
            "Epoch 72/85\n",
            "34/34 [==============================] - 0s 9ms/step - loss: 31.6667 - accuracy: 0.0912 - val_loss: 31.6560 - val_accuracy: 0.0903\n",
            "Epoch 73/85\n",
            "34/34 [==============================] - 0s 8ms/step - loss: 31.6510 - accuracy: 0.0921 - val_loss: 31.6403 - val_accuracy: 0.0903\n",
            "Epoch 74/85\n",
            "34/34 [==============================] - 0s 8ms/step - loss: 31.6353 - accuracy: 0.0921 - val_loss: 31.6247 - val_accuracy: 0.0903\n",
            "Epoch 75/85\n",
            "34/34 [==============================] - 0s 9ms/step - loss: 31.6197 - accuracy: 0.0921 - val_loss: 31.6090 - val_accuracy: 0.0903\n",
            "Epoch 76/85\n",
            "34/34 [==============================] - 0s 9ms/step - loss: 31.6040 - accuracy: 0.0921 - val_loss: 31.5934 - val_accuracy: 0.0894\n",
            "Epoch 77/85\n",
            "34/34 [==============================] - 0s 9ms/step - loss: 31.5884 - accuracy: 0.0921 - val_loss: 31.5777 - val_accuracy: 0.0894\n",
            "Epoch 78/85\n",
            "34/34 [==============================] - 0s 9ms/step - loss: 31.5728 - accuracy: 0.0921 - val_loss: 31.5621 - val_accuracy: 0.0894\n",
            "Epoch 79/85\n",
            "34/34 [==============================] - 0s 9ms/step - loss: 31.5572 - accuracy: 0.0921 - val_loss: 31.5465 - val_accuracy: 0.0894\n",
            "Epoch 80/85\n",
            "34/34 [==============================] - 0s 9ms/step - loss: 31.5415 - accuracy: 0.0921 - val_loss: 31.5309 - val_accuracy: 0.0894\n",
            "Epoch 81/85\n",
            "34/34 [==============================] - 0s 11ms/step - loss: 31.5259 - accuracy: 0.0921 - val_loss: 31.5153 - val_accuracy: 0.0894\n",
            "Epoch 82/85\n",
            "34/34 [==============================] - 0s 13ms/step - loss: 31.5103 - accuracy: 0.0921 - val_loss: 31.4997 - val_accuracy: 0.0894\n",
            "Epoch 83/85\n",
            "34/34 [==============================] - 0s 11ms/step - loss: 31.4947 - accuracy: 0.0917 - val_loss: 31.4841 - val_accuracy: 0.0894\n",
            "Epoch 84/85\n",
            "34/34 [==============================] - 0s 9ms/step - loss: 31.4791 - accuracy: 0.0917 - val_loss: 31.4685 - val_accuracy: 0.0894\n",
            "Epoch 85/85\n",
            "34/34 [==============================] - 0s 8ms/step - loss: 31.4635 - accuracy: 0.0917 - val_loss: 31.4529 - val_accuracy: 0.0894\n"
          ]
        },
        {
          "output_type": "execute_result",
          "data": {
            "text/plain": [
              "<keras.src.callbacks.History at 0x7833d9672080>"
            ]
          },
          "metadata": {},
          "execution_count": 690
        }
      ]
    },
    {
      "cell_type": "code",
      "source": [
        "from sklearn.metrics import recall_score\n",
        "import numpy as np\n",
        "\n",
        "# Make predictions\n",
        "y_pred = model.predict(X_test)\n",
        "\n",
        "# Convert one-hot encoded labels to class indices\n",
        "y_test_classes = np.argmax(y_test, axis=1)\n",
        "y_pred_classes = np.argmax(y_pred, axis=1)\n",
        "\n",
        "# Calculate recall for each class\n",
        "recall_per_class = recall_score(y_test_classes, y_pred_classes, average=None)\n",
        "\n",
        "# Print recall for each class\n",
        "for class_label, recall in enumerate(recall_per_class):\n",
        "    print(f\"Recall for Class {class_label}: {recall:.4f}\")\n"
      ],
      "metadata": {
        "colab": {
          "base_uri": "https://localhost:8080/"
        },
        "id": "zHzZv0bbDXdE",
        "outputId": "8043b9a4-8188-406a-c754-100b943b1b03"
      },
      "execution_count": null,
      "outputs": [
        {
          "output_type": "stream",
          "name": "stderr",
          "text": [
            "WARNING:tensorflow:AutoGraph could not transform <function Model.make_predict_function.<locals>.predict_function at 0x7833df77d360> and will run it as-is.\n",
            "Please report this to the TensorFlow team. When filing the bug, set the verbosity to 10 (on Linux, `export AUTOGRAPH_VERBOSITY=10`) and attach the full output.\n",
            "Cause: closure mismatch, requested ('self', 'step_function'), but source function had ()\n",
            "To silence this warning, decorate the function with @tf.autograph.experimental.do_not_convert\n"
          ]
        },
        {
          "output_type": "stream",
          "name": "stdout",
          "text": [
            "WARNING: AutoGraph could not transform <function Model.make_predict_function.<locals>.predict_function at 0x7833df77d360> and will run it as-is.\n",
            "Please report this to the TensorFlow team. When filing the bug, set the verbosity to 10 (on Linux, `export AUTOGRAPH_VERBOSITY=10`) and attach the full output.\n",
            "Cause: closure mismatch, requested ('self', 'step_function'), but source function had ()\n",
            "To silence this warning, decorate the function with @tf.autograph.experimental.do_not_convert\n",
            "34/34 [==============================] - 0s 2ms/step\n",
            "Recall for Class 0: 0.0000\n",
            "Recall for Class 1: 0.1456\n",
            "Recall for Class 2: 0.0180\n",
            "Recall for Class 3: 0.7975\n",
            "Recall for Class 4: 0.0000\n",
            "Recall for Class 5: 0.0000\n"
          ]
        }
      ]
    },
    {
      "cell_type": "code",
      "source": [
        "model.save('/content/drive/MyDrive/files/model_batting_recall-11-32-2-37-0-6.h5')"
      ],
      "metadata": {
        "id": "TA3WEasGmjw8",
        "colab": {
          "base_uri": "https://localhost:8080/",
          "height": 393
        },
        "outputId": "46696081-874c-456e-d28c-59a33d1964aa"
      },
      "execution_count": null,
      "outputs": [
        {
          "output_type": "stream",
          "name": "stderr",
          "text": [
            "/usr/local/lib/python3.10/dist-packages/keras/src/engine/training.py:3079: UserWarning: You are saving your model as an HDF5 file via `model.save()`. This file format is considered legacy. We recommend using instead the native Keras format, e.g. `model.save('my_model.keras')`.\n",
            "  `tf.saved_model.SaveOptions` object that specifies SavedModel\n"
          ]
        },
        {
          "output_type": "error",
          "ename": "ValueError",
          "evalue": "ignored",
          "traceback": [
            "\u001b[0;31m---------------------------------------------------------------------------\u001b[0m",
            "\u001b[0;31mValueError\u001b[0m                                Traceback (most recent call last)",
            "\u001b[0;32m<ipython-input-666-4faa00c4eee2>\u001b[0m in \u001b[0;36m<cell line: 1>\u001b[0;34m()\u001b[0m\n\u001b[0;32m----> 1\u001b[0;31m \u001b[0mmodel\u001b[0m\u001b[0;34m.\u001b[0m\u001b[0msave\u001b[0m\u001b[0;34m(\u001b[0m\u001b[0;34m'/content/drive/MyDrive/files/model_batting_recall-11-32-2-37-0-6.h5'\u001b[0m\u001b[0;34m)\u001b[0m\u001b[0;34m\u001b[0m\u001b[0;34m\u001b[0m\u001b[0m\n\u001b[0m",
            "\u001b[0;32m/usr/local/lib/python3.10/dist-packages/keras/src/utils/traceback_utils.py\u001b[0m in \u001b[0;36merror_handler\u001b[0;34m(*args, **kwargs)\u001b[0m\n\u001b[1;32m     68\u001b[0m             \u001b[0;31m# To get the full stack trace, call:\u001b[0m\u001b[0;34m\u001b[0m\u001b[0;34m\u001b[0m\u001b[0m\n\u001b[1;32m     69\u001b[0m             \u001b[0;31m# `tf.debugging.disable_traceback_filtering()`\u001b[0m\u001b[0;34m\u001b[0m\u001b[0;34m\u001b[0m\u001b[0m\n\u001b[0;32m---> 70\u001b[0;31m             \u001b[0;32mraise\u001b[0m \u001b[0me\u001b[0m\u001b[0;34m.\u001b[0m\u001b[0mwith_traceback\u001b[0m\u001b[0;34m(\u001b[0m\u001b[0mfiltered_tb\u001b[0m\u001b[0;34m)\u001b[0m \u001b[0;32mfrom\u001b[0m \u001b[0;32mNone\u001b[0m\u001b[0;34m\u001b[0m\u001b[0;34m\u001b[0m\u001b[0m\n\u001b[0m\u001b[1;32m     71\u001b[0m         \u001b[0;32mfinally\u001b[0m\u001b[0;34m:\u001b[0m\u001b[0;34m\u001b[0m\u001b[0;34m\u001b[0m\u001b[0m\n\u001b[1;32m     72\u001b[0m             \u001b[0;32mdel\u001b[0m \u001b[0mfiltered_tb\u001b[0m\u001b[0;34m\u001b[0m\u001b[0;34m\u001b[0m\u001b[0m\n",
            "\u001b[0;32m/usr/local/lib/python3.10/dist-packages/keras/src/engine/training.py\u001b[0m in \u001b[0;36m_assert_weights_created\u001b[0;34m(self)\u001b[0m\n\u001b[1;32m   3807\u001b[0m           \u001b[0;31m`\u001b[0m\u001b[0mmodel\u001b[0m\u001b[0;34m.\u001b[0m\u001b[0mfit\u001b[0m\u001b[0;31m`\u001b[0m\u001b[0;34m,\u001b[0m\u001b[0;31m \u001b[0m\u001b[0;31m`\u001b[0m\u001b[0mmodel\u001b[0m\u001b[0;34m.\u001b[0m\u001b[0mevaluate\u001b[0m\u001b[0;31m`\u001b[0m \u001b[0;32mor\u001b[0m\u001b[0;31m \u001b[0m\u001b[0;31m`\u001b[0m\u001b[0mmodel\u001b[0m\u001b[0;34m.\u001b[0m\u001b[0mpredict\u001b[0m\u001b[0;31m`\u001b[0m\u001b[0;34m.\u001b[0m\u001b[0;34m\u001b[0m\u001b[0;34m\u001b[0m\u001b[0m\n\u001b[1;32m   3808\u001b[0m         \"\"\"\n\u001b[0;32m-> 3809\u001b[0;31m         \u001b[0;32mreturn\u001b[0m \u001b[0mself\u001b[0m\u001b[0;34m.\u001b[0m\u001b[0m_get_save_spec\u001b[0m\u001b[0;34m(\u001b[0m\u001b[0mdynamic_batch\u001b[0m\u001b[0;34m,\u001b[0m \u001b[0minputs_only\u001b[0m\u001b[0;34m=\u001b[0m\u001b[0;32mFalse\u001b[0m\u001b[0;34m)\u001b[0m\u001b[0;34m\u001b[0m\u001b[0;34m\u001b[0m\u001b[0m\n\u001b[0m\u001b[1;32m   3810\u001b[0m \u001b[0;34m\u001b[0m\u001b[0m\n\u001b[1;32m   3811\u001b[0m     \u001b[0;32mdef\u001b[0m \u001b[0m_assert_weights_created\u001b[0m\u001b[0;34m(\u001b[0m\u001b[0mself\u001b[0m\u001b[0;34m)\u001b[0m\u001b[0;34m:\u001b[0m\u001b[0;34m\u001b[0m\u001b[0;34m\u001b[0m\u001b[0m\n",
            "\u001b[0;31mValueError\u001b[0m: Weights for model 'sequential_44' have not yet been created. Weights are created when the model is first called on inputs or `build()` is called with an `input_shape`."
          ]
        }
      ]
    },
    {
      "cell_type": "code",
      "source": [
        "from keras.models import load_model\n",
        "\n",
        "# Replace 'your_model.h5' with the path to your .h5 file\n",
        "model = load_model('/content/drive/MyDrive/files/model_batting_recall-03-30-34-18-14-0.h5')\n",
        "\n",
        "# Now you can use the 'model' object to make predictions or further training.\n"
      ],
      "metadata": {
        "id": "a2pN6N82cjF3"
      },
      "execution_count": 1,
      "outputs": []
    },
    {
      "cell_type": "code",
      "source": [
        "from tensorflow.keras.utils import plot_model\n",
        "plot_model(model, to_file='model_plot.png', show_shapes=True, show_layer_names=True)"
      ],
      "metadata": {
        "colab": {
          "base_uri": "https://localhost:8080/",
          "height": 422
        },
        "id": "TaF51jaIi1E2",
        "outputId": "8fd15600-a3c4-47df-de24-3e53a6d7824f"
      },
      "execution_count": 2,
      "outputs": [
        {
          "output_type": "execute_result",
          "data": {
            "image/png": "[encoded data removed]",
            "text/plain": [
              "<IPython.core.display.Image object>"
            ]
          },
          "metadata": {},
          "execution_count": 2
        }
      ]
    },
    {
      "cell_type": "code",
      "source": [
        "print(X.columns)"
      ],
      "metadata": {
        "colab": {
          "base_uri": "https://localhost:8080/"
        },
        "id": "1TC4qrhlv8_L",
        "outputId": "853dd80d-3ac6-4ebd-9876-3dbd040ed844"
      },
      "execution_count": null,
      "outputs": [
        {
          "output_type": "stream",
          "name": "stdout",
          "text": [
            "Index(['Player_AK Markram', 'Player_BA Stokes', 'Player_DA Warner',\n",
            "       'Player_GD Phillips', 'Player_GJ Maxwell', 'Player_H Klaasen',\n",
            "       'Player_JC Buttler', 'Player_JM Bairstow', 'Player_KL Rahul',\n",
            "       'Player_KS Williamson',\n",
            "       ...\n",
            "       'opposition_Nepal', 'opposition_Netherlands', 'opposition_New Zealand',\n",
            "       'opposition_Pakistan', 'opposition_Scotland', 'opposition_South Africa',\n",
            "       'opposition_Sri Lanka', 'opposition_U.A.E.', 'opposition_West Indies',\n",
            "       'opposition_Zimbabwe'],\n",
            "      dtype='object', length=160)\n"
          ]
        }
      ]
    },
    {
      "cell_type": "code",
      "source": [
        "# Assuming X is your pandas DataFrame\n",
        "column_names = X.columns.tolist()\n",
        "\n",
        "# Print the column names\n",
        "print(column_names)\n",
        "\n",
        "# Store the column names as a list of strings in a text file\n",
        "with open('column_names.txt', 'w') as file:\n",
        "    file.write('\\n'.join(column_names))\n"
      ],
      "metadata": {
        "colab": {
          "base_uri": "https://localhost:8080/"
        },
        "id": "p9qwiblxPrEg",
        "outputId": "658a3c01-5544-4ed4-b116-34e112e4580f"
      },
      "execution_count": null,
      "outputs": [
        {
          "output_type": "stream",
          "name": "stdout",
          "text": [
            "['Player_AK Markram', 'Player_BA Stokes', 'Player_DA Warner', 'Player_GD Phillips', 'Player_GJ Maxwell', 'Player_H Klaasen', 'Player_JC Buttler', 'Player_JM Bairstow', 'Player_KL Rahul', 'Player_KS Williamson', 'Player_M Labuschagne', 'Player_Q de Kock', 'Player_R Ravindra', 'Player_RG Sharma', 'Player_SPD Smith', 'Player_SS Iyer', 'Player_Shubman Gill', 'Player_T Bavuma', 'Player_V Kohli', 'format_ODI', 'format_T20I', 'format_Test', 'Ground_Aberdeen', 'Ground_Abu Dhabi', 'Ground_Adelaide', 'Ground_Ahmedabad', 'Ground_Amstelveen', 'Ground_Auckland', 'Ground_Basseterre', 'Ground_Belfast', 'Ground_Bengaluru', 'Ground_Benoni', 'Ground_Birmingham', 'Ground_Bloemfontein', 'Ground_Brabourne', 'Ground_Bridgetown', 'Ground_Brisbane', 'Ground_Bristol', 'Ground_Bulawayo', 'Ground_Cairns', 'Ground_Canberra', 'Ground_Cape Town', 'Ground_Cardiff', 'Ground_Carrara', 'Ground_Centurion', 'Ground_Chattogram', 'Ground_Chennai', 'Ground_Chester-le-Street', 'Ground_Christchurch', 'Ground_Colombo (PSS)', 'Ground_Colombo (RPS)', 'Ground_Colombo (SSC)', 'Ground_Cuttack', 'Ground_Dambulla', 'Ground_Delhi', 'Ground_Dharamsala', 'Ground_Dubai (DSC)', 'Ground_Dublin', 'Ground_Dublin (Malahide)', 'Ground_Dunedin', 'Ground_Durban', 'Ground_East London', 'Ground_Eden Gardens', 'Ground_Edinburgh', 'Ground_Fatullah', 'Ground_Galle', 'Ground_Gqeberha', 'Ground_Gros Islet', 'Ground_Guwahati', 'Ground_Gwalior', 'Ground_Hambantota', 'Ground_Hamilton', 'Ground_Harare', 'Ground_Hobart', 'Ground_Hyderabad', 'Ground_Indore', 'Ground_Jaipur', 'Ground_Johannesburg', 'Ground_Kanpur', 'Ground_Karachi', 'Ground_Kimberley', 'Ground_Kingston', 'Ground_Kingstown', 'Ground_Kochi', 'Ground_Lahore', 'Ground_Lauderhill', 'Ground_Leeds', \"Ground_Lord's\", 'Ground_Lucknow', 'Ground_Manchester', 'Ground_Melbourne', 'Ground_Mirpur', 'Ground_Mohali', 'Ground_Mount Maunganui', 'Ground_Multan', 'Ground_Nagpur', 'Ground_Napier', 'Ground_Nelson', 'Ground_North Sound', 'Ground_Nottingham', 'Ground_Paarl', 'Ground_Pallekele', 'Ground_Perth', 'Ground_Port of Spain', 'Ground_Potchefstroom', 'Ground_Providence', 'Ground_Pune', 'Ground_Queenstown', 'Ground_Raipur', 'Ground_Rajkot', 'Ground_Ranchi', 'Ground_Rawalpindi', 'Ground_Roseau', 'Ground_Sharjah', 'Ground_Southampton', \"Ground_St George's\", 'Ground_Sydney', 'Ground_Tarouba', 'Ground_Taunton', 'Ground_The Hague', 'Ground_The Oval', 'Ground_Thiruvananthapuram', 'Ground_Tolerance Oval', 'Ground_Townsville', 'Ground_Vadodara', 'Ground_Visakhapatnam', 'Ground_Wankhede', 'Ground_Wellington', 'Ground_Whangarei', 'conditions_Clear', 'conditions_Overcast', 'conditions_Partially cloudy', 'conditions_Rain', 'conditions_Rain, Fog', 'conditions_Rain, Overcast', 'conditions_Rain, Partially cloudy', 'conditions_Snow, Overcast', 'conditions_Snow, Partially cloudy', 'conditions_Snow, Rain, Overcast', 'conditions_Snow, Rain, Partially cloudy', 'opposition_Afghanistan', 'opposition_Australia', 'opposition_Bangladesh', 'opposition_Canada', 'opposition_England', 'opposition_Hong Kong', 'opposition_India', 'opposition_Ireland', 'opposition_Kenya', 'opposition_Namibia', 'opposition_Nepal', 'opposition_Netherlands', 'opposition_New Zealand', 'opposition_Pakistan', 'opposition_Scotland', 'opposition_South Africa', 'opposition_Sri Lanka', 'opposition_U.A.E.', 'opposition_West Indies', 'opposition_Zimbabwe']\n"
          ]
        }
      ]
    },
    {
      "cell_type": "code",
      "source": [
        "import pickle\n",
        "\n",
        "\n",
        "file_path = '/content/drive/MyDrive/files/player.pkl'\n",
        "\n",
        "# Open the file in binary mode and load the data\n",
        "with open(file_path, 'rb') as file:\n",
        "    players = pickle.load(file)\n",
        "\n",
        "# Now, 'your_list' contains the data loaded from the .pkl file\n",
        "print(players)\n"
      ],
      "metadata": {
        "colab": {
          "base_uri": "https://localhost:8080/"
        },
        "id": "ZvlvatkfwOw7",
        "outputId": "c635d2e3-6efc-4047-b9fa-c88e31c6224c"
      },
      "execution_count": null,
      "outputs": [
        {
          "output_type": "stream",
          "name": "stdout",
          "text": [
            "['AK Markram', 'H Klaasen', 'Q de Kock', 'T Bavuma', 'M Labuschagne', 'GJ Maxwell', 'R Ravindra', 'GD Phillips', 'Shubman Gill', 'SS Iyer', 'JM Bairstow', 'BA Stokes', 'JC Buttler', 'RG Sharma', 'DA Warner', 'KL Rahul', 'SPD Smith', 'KS Williamson', 'V Kohli']\n"
          ]
        }
      ]
    },
    {
      "cell_type": "code",
      "source": [
        "import pickle\n",
        "\n",
        "\n",
        "file_path = '/content/drive/MyDrive/files/opposition.pkl'\n",
        "\n",
        "# Open the file in binary mode and load the data\n",
        "with open(file_path, 'rb') as file:\n",
        "    opposition = pickle.load(file)\n",
        "\n",
        "# Now, 'your_list' contains the data loaded from the .pkl file\n",
        "print(opposition)\n"
      ],
      "metadata": {
        "colab": {
          "base_uri": "https://localhost:8080/"
        },
        "id": "KqjIIqZXwbD4",
        "outputId": "84c135c1-8aea-419b-e051-4d3ac71d4e22"
      },
      "execution_count": null,
      "outputs": [
        {
          "output_type": "stream",
          "name": "stdout",
          "text": [
            "['Bangladesh', 'Zimbabwe', 'India', 'Australia', 'Sri Lanka', 'Pakistan', 'England', 'West Indies', 'Afghanistan', 'New Zealand', 'Ireland', 'Netherlands', 'U.A.E.', 'South Africa', 'Scotland', 'Namibia', 'Nepal', 'Hong Kong', 'Kenya', 'Canada']\n"
          ]
        }
      ]
    },
    {
      "cell_type": "code",
      "source": [
        "import pickle\n",
        "\n",
        "\n",
        "file_path = '/content/drive/MyDrive/files/conditions.pkl'\n",
        "\n",
        "# Open the file in binary mode and load the data\n",
        "with open(file_path, 'rb') as file:\n",
        "    condition = pickle.load(file)\n",
        "\n",
        "# Now, 'your_list' contains the data loaded from the .pkl file\n",
        "print(condition)\n"
      ],
      "metadata": {
        "colab": {
          "base_uri": "https://localhost:8080/"
        },
        "id": "SeA5t3ziwlby",
        "outputId": "6099699b-bed8-4c44-e964-88359d1978aa"
      },
      "execution_count": null,
      "outputs": [
        {
          "output_type": "stream",
          "name": "stdout",
          "text": [
            "['Clear', 'Partially cloudy', 'Rain, Partially cloudy', 'Rain, Overcast', 'Overcast', 'Rain', 'Snow, Partially cloudy', 'Snow, Rain, Overcast', 'Snow, Rain, Partially cloudy', 'Rain, Fog', 'Snow, Overcast']\n"
          ]
        }
      ]
    },
    {
      "cell_type": "code",
      "source": [
        "import pickle\n",
        "\n",
        "\n",
        "file_path = '/content/drive/MyDrive/files/ground.pkl'\n",
        "\n",
        "# Open the file in binary mode and load the data\n",
        "with open(file_path, 'rb') as file:\n",
        "    ground = pickle.load(file)\n",
        "\n",
        "# Now, 'your_list' contains the data loaded from the .pkl file\n",
        "print(ground)\n"
      ],
      "metadata": {
        "colab": {
          "base_uri": "https://localhost:8080/"
        },
        "id": "h_q3QZhYwvww",
        "outputId": "ecb5332f-32d4-4041-84d1-6c8781b11f6a"
      },
      "execution_count": null,
      "outputs": [
        {
          "output_type": "stream",
          "name": "stdout",
          "text": [
            "['Potchefstroom', 'Bloemfontein', 'East London', 'Gqeberha', 'Cape Town', 'Centurion', 'Johannesburg', 'Durban', 'Galle', 'Colombo (SSC)', 'Dambulla', 'Colombo (RPS)', 'Kimberley', 'Paarl', 'Perth', 'Adelaide', 'Hobart', 'The Oval', 'Southampton', 'Cardiff', 'Birmingham', \"Lord's\", 'Chester-le-Street', 'Manchester', 'Visakhapatnam', 'Pune', 'Karachi', 'Rawalpindi', 'Gros Islet', \"St George's\", 'Dublin (Malahide)', 'Belfast', 'Abu Dhabi', 'Dubai (DSC)', 'Sharjah', 'Christchurch', 'Leeds', 'Bristol', 'Thiruvananthapuram', 'Guwahati', 'Indore', 'Lucknow', 'Ranchi', 'Delhi', 'Sydney', 'Benoni', 'Dharamsala', 'Wankhede', 'Chennai', 'Eden Gardens', 'Pallekele', 'Carrara', 'Lahore', 'Cuttack', 'Rajkot', 'Bengaluru', 'Hambantota', 'Chattogram', 'Mirpur', 'Harare', 'Bulawayo', 'Mount Maunganui', 'Hamilton', 'Melbourne', 'Canberra', 'Auckland', 'Wellington', 'Kanpur', 'Nagpur', 'Providence', 'Basseterre', 'Bridgetown', 'Dunedin', 'Nottingham', 'Mohali', 'Brisbane', 'Cairns', 'Ahmedabad', 'Hyderabad', 'Jaipur', 'Tolerance Oval', 'Taunton', 'Townsville', 'Queenstown', 'Nelson', 'Napier', 'Edinburgh', 'The Hague', 'Kingston', 'Raipur', 'Port of Spain', 'Roseau', 'Tarouba', 'Lauderhill', 'North Sound', 'Dublin', 'Multan', 'Aberdeen', 'Amstelveen', 'Brabourne', 'Kochi', 'Fatullah', 'Colombo (PSS)', 'Kingstown', 'Vadodara', 'Whangarei', 'Gwalior']\n"
          ]
        }
      ]
    },
    {
      "cell_type": "code",
      "source": [
        "import pickle\n",
        "\n",
        "\n",
        "file_path = '/content/drive/MyDrive/files/format.pkl'\n",
        "\n",
        "# Open the file in binary mode and load the data\n",
        "with open(file_path, 'rb') as file:\n",
        "    format = pickle.load(file)\n",
        "\n",
        "# Now, 'your_list' contains the data loaded from the .pkl file\n",
        "print(format)\n"
      ],
      "metadata": {
        "colab": {
          "base_uri": "https://localhost:8080/"
        },
        "id": "OZBdnzOdw4Zg",
        "outputId": "e4070564-5cfd-41f5-e7cb-7ad34eb00fc7"
      },
      "execution_count": null,
      "outputs": [
        {
          "output_type": "stream",
          "name": "stdout",
          "text": [
            "['Test', 'ODI', 'T20I']\n"
          ]
        }
      ]
    },
    {
      "cell_type": "code",
      "source": [
        "# player_index=players.index('AK Markram')\n",
        "# opposition_index=opposition.index('Bangladesh')\n",
        "# conditions_index=condition.index('Clear')\n",
        "# ground_index=ground.index('Potchefstroom')\n",
        "# format_index=format.index('Test')\n",
        "\n",
        "player_index=players.index('Shubman Gill')\n",
        "opposition_index=opposition.index('Pakistan')\n",
        "conditions_index=condition.index('Rain, Partially cloudy')\n",
        "ground_index=ground.index('Colombo (RPS)')\n",
        "format_index=format.index('ODI')\n",
        "\n",
        "for i in range(len(X.columns)):\n",
        "  # index1=str(players.index('V Kohli'))\n",
        "  # index2=str(opposition.index('New Zealand'))\n",
        "  # index3=str(condition.index('Clear'))\n",
        "  # index4=str(ground.index('Dharamsala'))\n",
        "  # index5=str(format.index('ODI'))\n",
        "\n",
        "  index1=str(players.index('V Kohli'))\n",
        "  index2=str(opposition.index('Australia'))\n",
        "  index3=str(condition.index('Clear'))\n",
        "  index4=str(ground.index('Ahmedabad'))\n",
        "  index5=str(format.index('ODI'))\n",
        "  if 'Player' in X.columns[i] and index1 in X.columns[i]:\n",
        "    player_index=i\n",
        "  if 'opposition' in X.columns[i] and index2 in X.columns[i]:\n",
        "    opposition_index=i\n",
        "  if 'conditions' in X.columns[i] and index3 in X.columns[i]:\n",
        "    conditions_index=i\n",
        "  if 'Ground' in X.columns[i] and index4 in X.columns[i]:\n",
        "    ground_index=i\n",
        "  if 'format' in X.columns[i] and index5 in X.columns[i]:\n",
        "    format_index=i\n",
        "\n",
        "print(player_index)\n",
        "print(opposition_index)\n",
        "print(conditions_index)\n",
        "print(ground_index)\n",
        "print(format_index)\n",
        "\n",
        "\n"
      ],
      "metadata": {
        "colab": {
          "base_uri": "https://localhost:8080/"
        },
        "id": "piP_2ZUwxCPh",
        "outputId": "00de4d7d-e3c1-4026-c920-9fc957e4b837"
      },
      "execution_count": null,
      "outputs": [
        {
          "output_type": "stream",
          "name": "stdout",
          "text": [
            "18\n",
            "153\n",
            "139\n",
            "99\n",
            "20\n"
          ]
        }
      ]
    },
    {
      "cell_type": "code",
      "source": [
        "import numpy as np\n",
        "import tensorflow as tf\n",
        "# Create a NumPy array of zeros with size 160\n",
        "check = np.zeros(160)\n",
        "\n",
        "# Set specific indices to 1\n",
        "indices_to_set_as_1 = [player_index,opposition_index,conditions_index,ground_index,format_index]\n",
        "check[indices_to_set_as_1] = 1\n",
        "check_reshaped = check.reshape(1, -1)\n",
        "\n",
        "final=tf.convert_to_tensor(check_reshaped)\n",
        "\n",
        "# vals=np.array([player_index,opposition_index,conditions_index,ground_index,format_index])\n",
        "# vals=vals.astype(np.float32)\n",
        "# vals = vals.reshape(1, -1)\n",
        "# final=tf.convert_to_tensor(vals)\n",
        "\n",
        "\n",
        "\n"
      ],
      "metadata": {
        "id": "CMeILhr0zAMK"
      },
      "execution_count": null,
      "outputs": []
    },
    {
      "cell_type": "code",
      "source": [
        "predictions = model.predict(final)\n",
        "print(predictions)\n",
        "# Find the index with the maximum predicted value\n",
        "max_index = np.argmax(predictions)\n",
        "\n",
        "# Print the index with the maximum predicted value\n",
        "print(\"Index with maximum predicted value:\", max_index)"
      ],
      "metadata": {
        "colab": {
          "base_uri": "https://localhost:8080/"
        },
        "id": "v7Hatqy6zO7A",
        "outputId": "2b1ff361-589c-4b9e-c63c-915e134dc1a5"
      },
      "execution_count": null,
      "outputs": [
        {
          "output_type": "stream",
          "name": "stdout",
          "text": [
            "1/1 [==============================] - 0s 363ms/step\n",
            "[[0.14459574 0.183876   0.19729795 0.17838623 0.15565419 0.14018989]]\n",
            "Index with maximum predicted value: 2\n"
          ]
        }
      ]
    },
    {
      "cell_type": "markdown",
      "source": [
        "0-30,30-60 ,60-100 ,100-150,150-200,200+\n",
        "\n",
        "0 , 1 , 2 , 3 , 4 , 5"
      ],
      "metadata": {
        "id": "YgtUz6ef0Nd2"
      }
    },
    {
      "cell_type": "markdown",
      "source": [
        "---------------------------------------"
      ],
      "metadata": {
        "id": "jKpmsXI60MAg"
      }
    },
    {
      "cell_type": "code",
      "source": [
        "import numpy as np\n",
        "\n",
        "zeros_array = np.zeros(5)\n",
        "zeros_reshaped = zeros_array.reshape(1, -1)"
      ],
      "metadata": {
        "id": "-5vglnzrLMjh"
      },
      "execution_count": null,
      "outputs": []
    },
    {
      "cell_type": "code",
      "source": [
        "zeros=tf.convert_to_tensor(zeros_reshaped)"
      ],
      "metadata": {
        "id": "Xqij4SqiLY8z"
      },
      "execution_count": null,
      "outputs": []
    },
    {
      "cell_type": "code",
      "source": [
        "model.predict(zeros)"
      ],
      "metadata": {
        "colab": {
          "base_uri": "https://localhost:8080/"
        },
        "id": "pCtevHdfLPsW",
        "outputId": "70e2f0e1-24da-4ee8-f3d9-a964ec68df3e"
      },
      "execution_count": null,
      "outputs": [
        {
          "output_type": "stream",
          "name": "stdout",
          "text": [
            "1/1 [==============================] - 0s 74ms/step\n"
          ]
        },
        {
          "output_type": "execute_result",
          "data": {
            "text/plain": [
              "array([[0.16755031, 0.1672103 , 0.16747081, 0.16693844, 0.16514707,\n",
              "        0.16568314]], dtype=float32)"
            ]
          },
          "metadata": {},
          "execution_count": 382
        }
      ]
    },
    {
      "cell_type": "code",
      "source": [
        "!pip install tensorflowjs"
      ],
      "metadata": {
        "colab": {
          "base_uri": "https://localhost:8080/",
          "height": 1000
        },
        "id": "vsMMY_cEMK3_",
        "outputId": "9461a763-5957-4ece-beb1-1756fde773b5"
      },
      "execution_count": null,
      "outputs": [
        {
          "output_type": "stream",
          "name": "stdout",
          "text": [
            "Collecting tensorflowjs\n",
            "  Downloading tensorflowjs-4.13.0-py3-none-any.whl (89 kB)\n",
            "\u001b[?25l     \u001b[90m━━━━━━━━━━━━━━━━━━━━━━━━━━━━━━━━━━━━━━━━\u001b[0m \u001b[32m0.0/89.2 kB\u001b[0m \u001b[31m?\u001b[0m eta \u001b[36m-:--:--\u001b[0m\r\u001b[2K     \u001b[91m━━━━━━━━━━━━━━━━━━━━━━━━━━━\u001b[0m\u001b[91m╸\u001b[0m\u001b[90m━━━━━━━━━━━━\u001b[0m \u001b[32m61.4/89.2 kB\u001b[0m \u001b[31m1.7 MB/s\u001b[0m eta \u001b[36m0:00:01\u001b[0m\r\u001b[2K     \u001b[90m━━━━━━━━━━━━━━━━━━━━━━━━━━━━━━━━━━━━━━━━\u001b[0m \u001b[32m89.2/89.2 kB\u001b[0m \u001b[31m1.6 MB/s\u001b[0m eta \u001b[36m0:00:00\u001b[0m\n",
            "\u001b[?25hRequirement already satisfied: flax>=0.7.2 in /usr/local/lib/python3.10/dist-packages (from tensorflowjs) (0.7.5)\n",
            "Requirement already satisfied: importlib_resources>=5.9.0 in /usr/local/lib/python3.10/dist-packages (from tensorflowjs) (6.1.1)\n",
            "Requirement already satisfied: jax>=0.4.13 in /usr/local/lib/python3.10/dist-packages (from tensorflowjs) (0.4.20)\n",
            "Requirement already satisfied: jaxlib>=0.4.13 in /usr/local/lib/python3.10/dist-packages (from tensorflowjs) (0.4.20+cuda11.cudnn86)\n",
            "Requirement already satisfied: tensorflow<3,>=2.13.0 in /usr/local/lib/python3.10/dist-packages (from tensorflowjs) (2.14.0)\n",
            "Collecting tensorflow-decision-forests>=1.5.0 (from tensorflowjs)\n",
            "  Downloading tensorflow_decision_forests-1.8.0-cp310-cp310-manylinux_2_17_x86_64.manylinux2014_x86_64.whl (15.3 MB)\n",
            "\u001b[2K     \u001b[90m━━━━━━━━━━━━━━━━━━━━━━━━━━━━━━━━━━━━━━━━\u001b[0m \u001b[32m15.3/15.3 MB\u001b[0m \u001b[31m55.6 MB/s\u001b[0m eta \u001b[36m0:00:00\u001b[0m\n",
            "\u001b[?25hRequirement already satisfied: six<2,>=1.16.0 in /usr/local/lib/python3.10/dist-packages (from tensorflowjs) (1.16.0)\n",
            "Requirement already satisfied: tensorflow-hub>=0.14.0 in /usr/local/lib/python3.10/dist-packages (from tensorflowjs) (0.15.0)\n",
            "Requirement already satisfied: packaging~=23.1 in /usr/local/lib/python3.10/dist-packages (from tensorflowjs) (23.2)\n",
            "Requirement already satisfied: numpy>=1.22 in /usr/local/lib/python3.10/dist-packages (from flax>=0.7.2->tensorflowjs) (1.23.5)\n",
            "Requirement already satisfied: msgpack in /usr/local/lib/python3.10/dist-packages (from flax>=0.7.2->tensorflowjs) (1.0.7)\n",
            "Requirement already satisfied: optax in /usr/local/lib/python3.10/dist-packages (from flax>=0.7.2->tensorflowjs) (0.1.7)\n",
            "Requirement already satisfied: orbax-checkpoint in /usr/local/lib/python3.10/dist-packages (from flax>=0.7.2->tensorflowjs) (0.4.2)\n",
            "Requirement already satisfied: tensorstore in /usr/local/lib/python3.10/dist-packages (from flax>=0.7.2->tensorflowjs) (0.1.45)\n",
            "Requirement already satisfied: rich>=11.1 in /usr/local/lib/python3.10/dist-packages (from flax>=0.7.2->tensorflowjs) (13.7.0)\n",
            "Requirement already satisfied: typing-extensions>=4.2 in /usr/local/lib/python3.10/dist-packages (from flax>=0.7.2->tensorflowjs) (4.5.0)\n",
            "Requirement already satisfied: PyYAML>=5.4.1 in /usr/local/lib/python3.10/dist-packages (from flax>=0.7.2->tensorflowjs) (6.0.1)\n",
            "Requirement already satisfied: ml-dtypes>=0.2.0 in /usr/local/lib/python3.10/dist-packages (from jax>=0.4.13->tensorflowjs) (0.2.0)\n",
            "Requirement already satisfied: opt-einsum in /usr/local/lib/python3.10/dist-packages (from jax>=0.4.13->tensorflowjs) (3.3.0)\n",
            "Requirement already satisfied: scipy>=1.9 in /usr/local/lib/python3.10/dist-packages (from jax>=0.4.13->tensorflowjs) (1.11.3)\n",
            "Requirement already satisfied: absl-py>=1.0.0 in /usr/local/lib/python3.10/dist-packages (from tensorflow<3,>=2.13.0->tensorflowjs) (1.4.0)\n",
            "Requirement already satisfied: astunparse>=1.6.0 in /usr/local/lib/python3.10/dist-packages (from tensorflow<3,>=2.13.0->tensorflowjs) (1.6.3)\n",
            "Requirement already satisfied: flatbuffers>=23.5.26 in /usr/local/lib/python3.10/dist-packages (from tensorflow<3,>=2.13.0->tensorflowjs) (23.5.26)\n",
            "Requirement already satisfied: gast!=0.5.0,!=0.5.1,!=0.5.2,>=0.2.1 in /usr/local/lib/python3.10/dist-packages (from tensorflow<3,>=2.13.0->tensorflowjs) (0.5.4)\n",
            "Requirement already satisfied: google-pasta>=0.1.1 in /usr/local/lib/python3.10/dist-packages (from tensorflow<3,>=2.13.0->tensorflowjs) (0.2.0)\n",
            "Requirement already satisfied: h5py>=2.9.0 in /usr/local/lib/python3.10/dist-packages (from tensorflow<3,>=2.13.0->tensorflowjs) (3.9.0)\n",
            "Requirement already satisfied: libclang>=13.0.0 in /usr/local/lib/python3.10/dist-packages (from tensorflow<3,>=2.13.0->tensorflowjs) (16.0.6)\n",
            "Requirement already satisfied: protobuf!=4.21.0,!=4.21.1,!=4.21.2,!=4.21.3,!=4.21.4,!=4.21.5,<5.0.0dev,>=3.20.3 in /usr/local/lib/python3.10/dist-packages (from tensorflow<3,>=2.13.0->tensorflowjs) (3.20.3)\n",
            "Requirement already satisfied: setuptools in /usr/local/lib/python3.10/dist-packages (from tensorflow<3,>=2.13.0->tensorflowjs) (67.7.2)\n",
            "Requirement already satisfied: termcolor>=1.1.0 in /usr/local/lib/python3.10/dist-packages (from tensorflow<3,>=2.13.0->tensorflowjs) (2.3.0)\n",
            "Requirement already satisfied: wrapt<1.15,>=1.11.0 in /usr/local/lib/python3.10/dist-packages (from tensorflow<3,>=2.13.0->tensorflowjs) (1.14.1)\n",
            "Requirement already satisfied: tensorflow-io-gcs-filesystem>=0.23.1 in /usr/local/lib/python3.10/dist-packages (from tensorflow<3,>=2.13.0->tensorflowjs) (0.34.0)\n",
            "Requirement already satisfied: grpcio<2.0,>=1.24.3 in /usr/local/lib/python3.10/dist-packages (from tensorflow<3,>=2.13.0->tensorflowjs) (1.59.2)\n",
            "Requirement already satisfied: tensorboard<2.15,>=2.14 in /usr/local/lib/python3.10/dist-packages (from tensorflow<3,>=2.13.0->tensorflowjs) (2.14.1)\n",
            "Requirement already satisfied: tensorflow-estimator<2.15,>=2.14.0 in /usr/local/lib/python3.10/dist-packages (from tensorflow<3,>=2.13.0->tensorflowjs) (2.14.0)\n",
            "Requirement already satisfied: keras<2.15,>=2.14.0 in /usr/local/lib/python3.10/dist-packages (from tensorflow<3,>=2.13.0->tensorflowjs) (2.14.0)\n",
            "Requirement already satisfied: pandas in /usr/local/lib/python3.10/dist-packages (from tensorflow-decision-forests>=1.5.0->tensorflowjs) (1.5.3)\n",
            "Collecting tensorflow<3,>=2.13.0 (from tensorflowjs)\n",
            "  Downloading tensorflow-2.15.0-cp310-cp310-manylinux_2_17_x86_64.manylinux2014_x86_64.whl (475.2 MB)\n",
            "\u001b[2K     \u001b[90m━━━━━━━━━━━━━━━━━━━━━━━━━━━━━━━━━━━━━━━━\u001b[0m \u001b[32m475.2/475.2 MB\u001b[0m \u001b[31m1.8 MB/s\u001b[0m eta \u001b[36m0:00:00\u001b[0m\n",
            "\u001b[?25hRequirement already satisfied: wheel in /usr/local/lib/python3.10/dist-packages (from tensorflow-decision-forests>=1.5.0->tensorflowjs) (0.41.3)\n",
            "Collecting wurlitzer (from tensorflow-decision-forests>=1.5.0->tensorflowjs)\n",
            "  Downloading wurlitzer-3.0.3-py3-none-any.whl (7.3 kB)\n",
            "Collecting tensorboard<2.16,>=2.15 (from tensorflow<3,>=2.13.0->tensorflowjs)\n",
            "  Downloading tensorboard-2.15.1-py3-none-any.whl (5.5 MB)\n",
            "\u001b[2K     \u001b[90m━━━━━━━━━━━━━━━━━━━━━━━━━━━━━━━━━━━━━━━━\u001b[0m \u001b[32m5.5/5.5 MB\u001b[0m \u001b[31m66.5 MB/s\u001b[0m eta \u001b[36m0:00:00\u001b[0m\n",
            "\u001b[?25hCollecting tensorflow-estimator<2.16,>=2.15.0 (from tensorflow<3,>=2.13.0->tensorflowjs)\n",
            "  Downloading tensorflow_estimator-2.15.0-py2.py3-none-any.whl (441 kB)\n",
            "\u001b[2K     \u001b[90m━━━━━━━━━━━━━━━━━━━━━━━━━━━━━━━━━━━━━━━━\u001b[0m \u001b[32m442.0/442.0 kB\u001b[0m \u001b[31m40.5 MB/s\u001b[0m eta \u001b[36m0:00:00\u001b[0m\n",
            "\u001b[?25hCollecting keras<2.16,>=2.15.0 (from tensorflow<3,>=2.13.0->tensorflowjs)\n",
            "  Downloading keras-2.15.0-py3-none-any.whl (1.7 MB)\n",
            "\u001b[2K     \u001b[90m━━━━━━━━━━━━━━━━━━━━━━━━━━━━━━━━━━━━━━━━\u001b[0m \u001b[32m1.7/1.7 MB\u001b[0m \u001b[31m52.5 MB/s\u001b[0m eta \u001b[36m0:00:00\u001b[0m\n",
            "\u001b[?25hRequirement already satisfied: markdown-it-py>=2.2.0 in /usr/local/lib/python3.10/dist-packages (from rich>=11.1->flax>=0.7.2->tensorflowjs) (3.0.0)\n",
            "Requirement already satisfied: pygments<3.0.0,>=2.13.0 in /usr/local/lib/python3.10/dist-packages (from rich>=11.1->flax>=0.7.2->tensorflowjs) (2.16.1)\n",
            "Requirement already satisfied: google-auth<3,>=1.6.3 in /usr/local/lib/python3.10/dist-packages (from tensorboard<2.16,>=2.15->tensorflow<3,>=2.13.0->tensorflowjs) (2.17.3)\n",
            "Requirement already satisfied: google-auth-oauthlib<2,>=0.5 in /usr/local/lib/python3.10/dist-packages (from tensorboard<2.16,>=2.15->tensorflow<3,>=2.13.0->tensorflowjs) (1.0.0)\n",
            "Requirement already satisfied: markdown>=2.6.8 in /usr/local/lib/python3.10/dist-packages (from tensorboard<2.16,>=2.15->tensorflow<3,>=2.13.0->tensorflowjs) (3.5.1)\n",
            "Requirement already satisfied: requests<3,>=2.21.0 in /usr/local/lib/python3.10/dist-packages (from tensorboard<2.16,>=2.15->tensorflow<3,>=2.13.0->tensorflowjs) (2.31.0)\n",
            "Requirement already satisfied: tensorboard-data-server<0.8.0,>=0.7.0 in /usr/local/lib/python3.10/dist-packages (from tensorboard<2.16,>=2.15->tensorflow<3,>=2.13.0->tensorflowjs) (0.7.2)\n",
            "Requirement already satisfied: werkzeug>=1.0.1 in /usr/local/lib/python3.10/dist-packages (from tensorboard<2.16,>=2.15->tensorflow<3,>=2.13.0->tensorflowjs) (3.0.1)\n",
            "Requirement already satisfied: chex>=0.1.5 in /usr/local/lib/python3.10/dist-packages (from optax->flax>=0.7.2->tensorflowjs) (0.1.7)\n",
            "Requirement already satisfied: etils[epath,epy] in /usr/local/lib/python3.10/dist-packages (from orbax-checkpoint->flax>=0.7.2->tensorflowjs) (1.5.2)\n",
            "Requirement already satisfied: nest_asyncio in /usr/local/lib/python3.10/dist-packages (from orbax-checkpoint->flax>=0.7.2->tensorflowjs) (1.5.8)\n",
            "Requirement already satisfied: python-dateutil>=2.8.1 in /usr/local/lib/python3.10/dist-packages (from pandas->tensorflow-decision-forests>=1.5.0->tensorflowjs) (2.8.2)\n",
            "Requirement already satisfied: pytz>=2020.1 in /usr/local/lib/python3.10/dist-packages (from pandas->tensorflow-decision-forests>=1.5.0->tensorflowjs) (2023.3.post1)\n",
            "Requirement already satisfied: dm-tree>=0.1.5 in /usr/local/lib/python3.10/dist-packages (from chex>=0.1.5->optax->flax>=0.7.2->tensorflowjs) (0.1.8)\n",
            "Requirement already satisfied: toolz>=0.9.0 in /usr/local/lib/python3.10/dist-packages (from chex>=0.1.5->optax->flax>=0.7.2->tensorflowjs) (0.12.0)\n",
            "Requirement already satisfied: cachetools<6.0,>=2.0.0 in /usr/local/lib/python3.10/dist-packages (from google-auth<3,>=1.6.3->tensorboard<2.16,>=2.15->tensorflow<3,>=2.13.0->tensorflowjs) (5.3.2)\n",
            "Requirement already satisfied: pyasn1-modules>=0.2.1 in /usr/local/lib/python3.10/dist-packages (from google-auth<3,>=1.6.3->tensorboard<2.16,>=2.15->tensorflow<3,>=2.13.0->tensorflowjs) (0.3.0)\n",
            "Requirement already satisfied: rsa<5,>=3.1.4 in /usr/local/lib/python3.10/dist-packages (from google-auth<3,>=1.6.3->tensorboard<2.16,>=2.15->tensorflow<3,>=2.13.0->tensorflowjs) (4.9)\n",
            "Requirement already satisfied: requests-oauthlib>=0.7.0 in /usr/local/lib/python3.10/dist-packages (from google-auth-oauthlib<2,>=0.5->tensorboard<2.16,>=2.15->tensorflow<3,>=2.13.0->tensorflowjs) (1.3.1)\n",
            "Requirement already satisfied: mdurl~=0.1 in /usr/local/lib/python3.10/dist-packages (from markdown-it-py>=2.2.0->rich>=11.1->flax>=0.7.2->tensorflowjs) (0.1.2)\n",
            "Requirement already satisfied: charset-normalizer<4,>=2 in /usr/local/lib/python3.10/dist-packages (from requests<3,>=2.21.0->tensorboard<2.16,>=2.15->tensorflow<3,>=2.13.0->tensorflowjs) (3.3.2)\n",
            "Requirement already satisfied: idna<4,>=2.5 in /usr/local/lib/python3.10/dist-packages (from requests<3,>=2.21.0->tensorboard<2.16,>=2.15->tensorflow<3,>=2.13.0->tensorflowjs) (3.4)\n",
            "Requirement already satisfied: urllib3<3,>=1.21.1 in /usr/local/lib/python3.10/dist-packages (from requests<3,>=2.21.0->tensorboard<2.16,>=2.15->tensorflow<3,>=2.13.0->tensorflowjs) (2.0.7)\n",
            "Requirement already satisfied: certifi>=2017.4.17 in /usr/local/lib/python3.10/dist-packages (from requests<3,>=2.21.0->tensorboard<2.16,>=2.15->tensorflow<3,>=2.13.0->tensorflowjs) (2023.7.22)\n",
            "Requirement already satisfied: MarkupSafe>=2.1.1 in /usr/local/lib/python3.10/dist-packages (from werkzeug>=1.0.1->tensorboard<2.16,>=2.15->tensorflow<3,>=2.13.0->tensorflowjs) (2.1.3)\n",
            "Requirement already satisfied: fsspec in /usr/local/lib/python3.10/dist-packages (from etils[epath,epy]->orbax-checkpoint->flax>=0.7.2->tensorflowjs) (2023.6.0)\n",
            "Requirement already satisfied: zipp in /usr/local/lib/python3.10/dist-packages (from etils[epath,epy]->orbax-checkpoint->flax>=0.7.2->tensorflowjs) (3.17.0)\n",
            "Requirement already satisfied: pyasn1<0.6.0,>=0.4.6 in /usr/local/lib/python3.10/dist-packages (from pyasn1-modules>=0.2.1->google-auth<3,>=1.6.3->tensorboard<2.16,>=2.15->tensorflow<3,>=2.13.0->tensorflowjs) (0.5.0)\n",
            "Requirement already satisfied: oauthlib>=3.0.0 in /usr/local/lib/python3.10/dist-packages (from requests-oauthlib>=0.7.0->google-auth-oauthlib<2,>=0.5->tensorboard<2.16,>=2.15->tensorflow<3,>=2.13.0->tensorflowjs) (3.2.2)\n",
            "Installing collected packages: wurlitzer, tensorflow-estimator, keras, tensorboard, tensorflow, tensorflow-decision-forests, tensorflowjs\n",
            "  Attempting uninstall: tensorflow-estimator\n",
            "    Found existing installation: tensorflow-estimator 2.14.0\n",
            "    Uninstalling tensorflow-estimator-2.14.0:\n",
            "      Successfully uninstalled tensorflow-estimator-2.14.0\n",
            "  Attempting uninstall: keras\n",
            "    Found existing installation: keras 2.14.0\n",
            "    Uninstalling keras-2.14.0:\n",
            "      Successfully uninstalled keras-2.14.0\n",
            "  Attempting uninstall: tensorboard\n",
            "    Found existing installation: tensorboard 2.14.1\n",
            "    Uninstalling tensorboard-2.14.1:\n",
            "      Successfully uninstalled tensorboard-2.14.1\n",
            "  Attempting uninstall: tensorflow\n",
            "    Found existing installation: tensorflow 2.14.0\n",
            "    Uninstalling tensorflow-2.14.0:\n",
            "      Successfully uninstalled tensorflow-2.14.0\n",
            "Successfully installed keras-2.15.0 tensorboard-2.15.1 tensorflow-2.15.0 tensorflow-decision-forests-1.8.0 tensorflow-estimator-2.15.0 tensorflowjs-4.13.0 wurlitzer-3.0.3\n"
          ]
        },
        {
          "output_type": "display_data",
          "data": {
            "application/vnd.colab-display-data+json": {
              "pip_warning": {
                "packages": [
                  "keras",
                  "tensorboard",
                  "tensorflow"
                ]
              }
            }
          },
          "metadata": {}
        }
      ]
    },
    {
      "cell_type": "code",
      "source": [
        "!tensorflowjs_converter --input_format=keras \\\n",
        "                       /content/drive/MyDrive/files/model_batting_recall-03-30-34-18-14-0.h5 \\\n",
        "                       /content/drive/MyDrive/files/vary_model\n"
      ],
      "metadata": {
        "colab": {
          "base_uri": "https://localhost:8080/"
        },
        "id": "thA72RLVMVFE",
        "outputId": "d6987fd4-0f1c-48d9-bd84-dcc2f6de53ee"
      },
      "execution_count": null,
      "outputs": [
        {
          "output_type": "stream",
          "name": "stdout",
          "text": [
            "2023-11-19 11:37:07.820447: E external/local_xla/xla/stream_executor/cuda/cuda_dnn.cc:9261] Unable to register cuDNN factory: Attempting to register factory for plugin cuDNN when one has already been registered\n",
            "2023-11-19 11:37:07.820693: E external/local_xla/xla/stream_executor/cuda/cuda_fft.cc:607] Unable to register cuFFT factory: Attempting to register factory for plugin cuFFT when one has already been registered\n",
            "2023-11-19 11:37:07.982116: E external/local_xla/xla/stream_executor/cuda/cuda_blas.cc:1515] Unable to register cuBLAS factory: Attempting to register factory for plugin cuBLAS when one has already been registered\n",
            "2023-11-19 11:37:09.676790: W tensorflow/compiler/tf2tensorrt/utils/py_utils.cc:38] TF-TRT Warning: Could not find TensorRT\n"
          ]
        }
      ]
    }
  ]
}